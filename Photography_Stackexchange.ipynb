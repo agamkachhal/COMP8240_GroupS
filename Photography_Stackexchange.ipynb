{
 "cells": [
  {
   "cell_type": "code",
   "execution_count": 58,
   "metadata": {},
   "outputs": [],
   "source": [
    "import pandas as pd\n",
    "import numpy as np\n",
    "import matplotlib.pyplot as plt\n",
    "import seaborn as sns\n",
    "%matplotlib inline\n",
    "from urllib.request import urlopen\n",
    "from bs4 import BeautifulSoup\n",
    "import requests\n",
    "import re\n",
    "import pandas as pd\n",
    "import numpy as np\n",
    "import matplotlib.pyplot as plt\n",
    "import os\n",
    "import time\n",
    "import requests\n",
    "from requests import get\n",
    "import warnings\n",
    "warnings.filterwarnings(\"ignore\")\n",
    "from requests import get\n",
    "from bs4 import BeautifulSoup\n",
    "import nltk\n",
    "from nltk.util import *\n",
    "from nltk.corpus import stopwords\n",
    "import re\n",
    "import seaborn as sns\n",
    "from collections import defaultdict"
   ]
  },
  {
   "cell_type": "code",
   "execution_count": 59,
   "metadata": {},
   "outputs": [
    {
     "name": "stdout",
     "output_type": "stream",
     "text": [
      "600\n"
     ]
    }
   ],
   "source": [
    "pages_list=[]                         # Empty list that will be appended with the page count\n",
    "\n",
    "pages_list.append(\"https://photo.stackexchange.com/questions?tab=newest&pagesize=50\")\n",
    "\n",
    "for page in list(range(2, 601)):     # Looping over first 400 webpages\n",
    "\n",
    "  pages_list.append('https://photo.stackexchange.com/questions?tab=newest&page='+str(page))\n",
    "  \n",
    "print(len(pages_list))"
   ]
  },
  {
   "cell_type": "markdown",
   "metadata": {},
   "source": [
    "## Web scraping Questions"
   ]
  },
  {
   "cell_type": "code",
   "execution_count": 60,
   "metadata": {},
   "outputs": [],
   "source": [
    "questions_list=[]                     # Creating an empty list of questions that will be appended with the question counts.\n",
    "\n",
    "for x in pages_list:                  # Looping over all the pages in the page list\n",
    "  page = requests.get(x)\n",
    "  soup = BeautifulSoup(page.text, 'html.parser')\n",
    "\n",
    "  question_name = soup.find_all('h3')   # Finding the h3 tag that has details of the question\n",
    "  for question in question_name:\n",
    "        if question.find('a'):\n",
    "            questions_list.append(question.find('a').text)"
   ]
  },
  {
   "cell_type": "code",
   "execution_count": 61,
   "metadata": {},
   "outputs": [
    {
     "data": {
      "text/plain": [
       "['current community',\n",
       " 'more stack exchange communities',\n",
       " 'Is it possible for a camera to wear out if it is used as a webcam all day?',\n",
       " 'Why does the iPhone SE (2016) have worse image quality compared to the current iPhone 12?',\n",
       " 'Are any of these photos any good? [closed]']"
      ]
     },
     "execution_count": 61,
     "metadata": {},
     "output_type": "execute_result"
    }
   ],
   "source": [
    "questions_list[:5]"
   ]
  },
  {
   "cell_type": "code",
   "execution_count": 62,
   "metadata": {},
   "outputs": [],
   "source": [
    "rmv = ['current community', 'more stack exchange communities']"
   ]
  },
  {
   "cell_type": "code",
   "execution_count": 63,
   "metadata": {},
   "outputs": [],
   "source": [
    "df = pd.DataFrame(questions_list, columns =['Questions']) "
   ]
  },
  {
   "cell_type": "code",
   "execution_count": 64,
   "metadata": {},
   "outputs": [],
   "source": [
    "df = df[~df['Questions'].isin(rmv)]"
   ]
  },
  {
   "cell_type": "code",
   "execution_count": 65,
   "metadata": {},
   "outputs": [
    {
     "data": {
      "text/html": [
       "<div>\n",
       "<style scoped>\n",
       "    .dataframe tbody tr th:only-of-type {\n",
       "        vertical-align: middle;\n",
       "    }\n",
       "\n",
       "    .dataframe tbody tr th {\n",
       "        vertical-align: top;\n",
       "    }\n",
       "\n",
       "    .dataframe thead th {\n",
       "        text-align: right;\n",
       "    }\n",
       "</style>\n",
       "<table border=\"1\" class=\"dataframe\">\n",
       "  <thead>\n",
       "    <tr style=\"text-align: right;\">\n",
       "      <th></th>\n",
       "      <th>Questions</th>\n",
       "    </tr>\n",
       "  </thead>\n",
       "  <tbody>\n",
       "    <tr>\n",
       "      <th>2</th>\n",
       "      <td>Is it possible for a camera to wear out if it ...</td>\n",
       "    </tr>\n",
       "    <tr>\n",
       "      <th>3</th>\n",
       "      <td>Why does the iPhone SE (2016) have worse image...</td>\n",
       "    </tr>\n",
       "    <tr>\n",
       "      <th>4</th>\n",
       "      <td>Are any of these photos any good? [closed]</td>\n",
       "    </tr>\n",
       "    <tr>\n",
       "      <th>5</th>\n",
       "      <td>What should I be careful about while buying us...</td>\n",
       "    </tr>\n",
       "    <tr>\n",
       "      <th>6</th>\n",
       "      <td>How can I make part of an image transparent in...</td>\n",
       "    </tr>\n",
       "  </tbody>\n",
       "</table>\n",
       "</div>"
      ],
      "text/plain": [
       "                                           Questions\n",
       "2  Is it possible for a camera to wear out if it ...\n",
       "3  Why does the iPhone SE (2016) have worse image...\n",
       "4         Are any of these photos any good? [closed]\n",
       "5  What should I be careful about while buying us...\n",
       "6  How can I make part of an image transparent in..."
      ]
     },
     "execution_count": 65,
     "metadata": {},
     "output_type": "execute_result"
    }
   ],
   "source": [
    "df.head()"
   ]
  },
  {
   "cell_type": "code",
   "execution_count": 13,
   "metadata": {},
   "outputs": [],
   "source": [
    "df = df[~df['Questions'].isin(rmv)]"
   ]
  },
  {
   "cell_type": "code",
   "execution_count": 14,
   "metadata": {},
   "outputs": [
    {
     "data": {
      "text/html": [
       "<div>\n",
       "<style scoped>\n",
       "    .dataframe tbody tr th:only-of-type {\n",
       "        vertical-align: middle;\n",
       "    }\n",
       "\n",
       "    .dataframe tbody tr th {\n",
       "        vertical-align: top;\n",
       "    }\n",
       "\n",
       "    .dataframe thead th {\n",
       "        text-align: right;\n",
       "    }\n",
       "</style>\n",
       "<table border=\"1\" class=\"dataframe\">\n",
       "  <thead>\n",
       "    <tr style=\"text-align: right;\">\n",
       "      <th></th>\n",
       "      <th>Questions</th>\n",
       "    </tr>\n",
       "  </thead>\n",
       "  <tbody>\n",
       "    <tr>\n",
       "      <th>2</th>\n",
       "      <td>Are any of these photos any good? [closed]</td>\n",
       "    </tr>\n",
       "    <tr>\n",
       "      <th>3</th>\n",
       "      <td>What should I be careful about while buying us...</td>\n",
       "    </tr>\n",
       "    <tr>\n",
       "      <th>4</th>\n",
       "      <td>How can I make part of an image transparent in...</td>\n",
       "    </tr>\n",
       "    <tr>\n",
       "      <th>5</th>\n",
       "      <td>How can I create a Lightroom Smart Collection ...</td>\n",
       "    </tr>\n",
       "    <tr>\n",
       "      <th>6</th>\n",
       "      <td>Is there a technical reason for modern on-came...</td>\n",
       "    </tr>\n",
       "  </tbody>\n",
       "</table>\n",
       "</div>"
      ],
      "text/plain": [
       "                                           Questions\n",
       "2         Are any of these photos any good? [closed]\n",
       "3  What should I be careful about while buying us...\n",
       "4  How can I make part of an image transparent in...\n",
       "5  How can I create a Lightroom Smart Collection ...\n",
       "6  Is there a technical reason for modern on-came..."
      ]
     },
     "execution_count": 14,
     "metadata": {},
     "output_type": "execute_result"
    }
   ],
   "source": [
    "df.head()"
   ]
  },
  {
   "cell_type": "code",
   "execution_count": 66,
   "metadata": {},
   "outputs": [
    {
     "name": "stdout",
     "output_type": "stream",
     "text": [
      "24268\n"
     ]
    }
   ],
   "source": [
    "print(len(df))"
   ]
  },
  {
   "cell_type": "markdown",
   "metadata": {},
   "source": [
    "## Web scraping Tags"
   ]
  },
  {
   "cell_type": "code",
   "execution_count": 67,
   "metadata": {},
   "outputs": [],
   "source": [
    "def ListToString(string):\n",
    "  # initialize an empty string \n",
    "  string1 = \"\"\n",
    "    \n",
    "  # traverse in the string   \n",
    "  for element in string:  \n",
    "      string1 = string1 + element   \n",
    "     \n",
    "  return string1\n",
    "\n",
    "# To get the tags from the webpage\n",
    "tag=[]\n",
    "\n",
    "for x in pages_list:\n",
    "  page = requests.get(x)\n",
    "  soup = BeautifulSoup(page.text, 'html.parser')\n",
    "\n",
    "  tags=[]\n",
    "\n",
    "  for div in soup.find_all('div', {\"class\": re.compile(\"^tags\")}):      \n",
    "    tags.append(div.get('class')[1:])\n",
    "\n",
    "  clean_tags=[]\n",
    "\n",
    "  for i in tags:\n",
    "    clean_tags.append(ListToString(i).replace('t-','|'))\n",
    "\n",
    "  for j in clean_tags:\n",
    "    tag.append(j[1:])"
   ]
  },
  {
   "cell_type": "code",
   "execution_count": 68,
   "metadata": {},
   "outputs": [
    {
     "name": "stdout",
     "output_type": "stream",
     "text": [
      "24268\n",
      "['webcam|durability', 'image-quality|iphone', 'canon|dslr|lighting|focus|macro', 'equipmen|recommendation|fujifilm|used-equipment', 'lightroom|photo-editing', 'lightroom|keywords|smar|collections', 'flash|hotshoe-flash|vintage|sync-speed', 'landscape|prime|focal-distance', 'camera-settings|fujifilm', 'effect|blur', 'nikon|live-view']\n"
     ]
    }
   ],
   "source": [
    "print(len(tag))\n",
    "print(tag[:11])"
   ]
  },
  {
   "cell_type": "code",
   "execution_count": 69,
   "metadata": {},
   "outputs": [
    {
     "name": "stdout",
     "output_type": "stream",
     "text": [
      "webcam|durability\n",
      "autofocus|back-focus|tests|focus-adjust|fron|focus\n"
     ]
    }
   ],
   "source": [
    "print(tag[0])\n",
    "print(tag[-1])"
   ]
  },
  {
   "cell_type": "code",
   "execution_count": 70,
   "metadata": {},
   "outputs": [],
   "source": [
    "df['Tags']=tag"
   ]
  },
  {
   "cell_type": "code",
   "execution_count": 71,
   "metadata": {},
   "outputs": [
    {
     "data": {
      "text/html": [
       "<div>\n",
       "<style scoped>\n",
       "    .dataframe tbody tr th:only-of-type {\n",
       "        vertical-align: middle;\n",
       "    }\n",
       "\n",
       "    .dataframe tbody tr th {\n",
       "        vertical-align: top;\n",
       "    }\n",
       "\n",
       "    .dataframe thead th {\n",
       "        text-align: right;\n",
       "    }\n",
       "</style>\n",
       "<table border=\"1\" class=\"dataframe\">\n",
       "  <thead>\n",
       "    <tr style=\"text-align: right;\">\n",
       "      <th></th>\n",
       "      <th>Questions</th>\n",
       "      <th>Tags</th>\n",
       "    </tr>\n",
       "  </thead>\n",
       "  <tbody>\n",
       "    <tr>\n",
       "      <th>2</th>\n",
       "      <td>Is it possible for a camera to wear out if it ...</td>\n",
       "      <td>webcam|durability</td>\n",
       "    </tr>\n",
       "    <tr>\n",
       "      <th>3</th>\n",
       "      <td>Why does the iPhone SE (2016) have worse image...</td>\n",
       "      <td>image-quality|iphone</td>\n",
       "    </tr>\n",
       "    <tr>\n",
       "      <th>4</th>\n",
       "      <td>Are any of these photos any good? [closed]</td>\n",
       "      <td>canon|dslr|lighting|focus|macro</td>\n",
       "    </tr>\n",
       "    <tr>\n",
       "      <th>5</th>\n",
       "      <td>What should I be careful about while buying us...</td>\n",
       "      <td>equipmen|recommendation|fujifilm|used-equipment</td>\n",
       "    </tr>\n",
       "    <tr>\n",
       "      <th>6</th>\n",
       "      <td>How can I make part of an image transparent in...</td>\n",
       "      <td>lightroom|photo-editing</td>\n",
       "    </tr>\n",
       "  </tbody>\n",
       "</table>\n",
       "</div>"
      ],
      "text/plain": [
       "                                           Questions  \\\n",
       "2  Is it possible for a camera to wear out if it ...   \n",
       "3  Why does the iPhone SE (2016) have worse image...   \n",
       "4         Are any of these photos any good? [closed]   \n",
       "5  What should I be careful about while buying us...   \n",
       "6  How can I make part of an image transparent in...   \n",
       "\n",
       "                                              Tags  \n",
       "2                                webcam|durability  \n",
       "3                             image-quality|iphone  \n",
       "4                  canon|dslr|lighting|focus|macro  \n",
       "5  equipmen|recommendation|fujifilm|used-equipment  \n",
       "6                          lightroom|photo-editing  "
      ]
     },
     "execution_count": 71,
     "metadata": {},
     "output_type": "execute_result"
    }
   ],
   "source": [
    "df.head()"
   ]
  },
  {
   "cell_type": "code",
   "execution_count": 72,
   "metadata": {},
   "outputs": [
    {
     "data": {
      "text/html": [
       "<div>\n",
       "<style scoped>\n",
       "    .dataframe tbody tr th:only-of-type {\n",
       "        vertical-align: middle;\n",
       "    }\n",
       "\n",
       "    .dataframe tbody tr th {\n",
       "        vertical-align: top;\n",
       "    }\n",
       "\n",
       "    .dataframe thead th {\n",
       "        text-align: right;\n",
       "    }\n",
       "</style>\n",
       "<table border=\"1\" class=\"dataframe\">\n",
       "  <thead>\n",
       "    <tr style=\"text-align: right;\">\n",
       "      <th></th>\n",
       "      <th>Questions</th>\n",
       "      <th>Tags</th>\n",
       "    </tr>\n",
       "  </thead>\n",
       "  <tbody>\n",
       "    <tr>\n",
       "      <th>25235</th>\n",
       "      <td>What are alternatives to a tripod when I can't...</td>\n",
       "      <td>equipmen|recommendation|tripod|travel|weight|s...</td>\n",
       "    </tr>\n",
       "    <tr>\n",
       "      <th>25236</th>\n",
       "      <td>Should I really lug around a lens cap everywhere?</td>\n",
       "      <td>lens|equipmen|protection</td>\n",
       "    </tr>\n",
       "    <tr>\n",
       "      <th>25237</th>\n",
       "      <td>How can I stop my HDR shots looking so fake?</td>\n",
       "      <td>technique|hdr|artifacts|halos</td>\n",
       "    </tr>\n",
       "    <tr>\n",
       "      <th>25238</th>\n",
       "      <td>How can I maximize the “blurry background, sha...</td>\n",
       "      <td>depth-of-field|blur|bokeh|shooting-technique|s...</td>\n",
       "    </tr>\n",
       "    <tr>\n",
       "      <th>25239</th>\n",
       "      <td>What methods can be used to micro-adjust autof...</td>\n",
       "      <td>autofocus|back-focus|tests|focus-adjust|fron|f...</td>\n",
       "    </tr>\n",
       "  </tbody>\n",
       "</table>\n",
       "</div>"
      ],
      "text/plain": [
       "                                               Questions  \\\n",
       "25235  What are alternatives to a tripod when I can't...   \n",
       "25236  Should I really lug around a lens cap everywhere?   \n",
       "25237       How can I stop my HDR shots looking so fake?   \n",
       "25238  How can I maximize the “blurry background, sha...   \n",
       "25239  What methods can be used to micro-adjust autof...   \n",
       "\n",
       "                                                    Tags  \n",
       "25235  equipmen|recommendation|tripod|travel|weight|s...  \n",
       "25236                           lens|equipmen|protection  \n",
       "25237                      technique|hdr|artifacts|halos  \n",
       "25238  depth-of-field|blur|bokeh|shooting-technique|s...  \n",
       "25239  autofocus|back-focus|tests|focus-adjust|fron|f...  "
      ]
     },
     "execution_count": 72,
     "metadata": {},
     "output_type": "execute_result"
    }
   ],
   "source": [
    "df.tail()"
   ]
  },
  {
   "cell_type": "code",
   "execution_count": 73,
   "metadata": {},
   "outputs": [
    {
     "data": {
      "text/plain": [
       "24268"
      ]
     },
     "execution_count": 73,
     "metadata": {},
     "output_type": "execute_result"
    }
   ],
   "source": [
    "len(df)"
   ]
  },
  {
   "cell_type": "markdown",
   "metadata": {},
   "source": [
    "## Data Preprocessing"
   ]
  },
  {
   "cell_type": "code",
   "execution_count": 74,
   "metadata": {},
   "outputs": [],
   "source": [
    "df['Questions'] = df['Questions'].str.replace(';','').str.replace(':','').str.replace('/',' or ').str.replace('(','').str.replace(')','').str.replace('[','').str.replace(']','').str.replace('\"','').str.replace(\"'\",'').str.replace('.','')"
   ]
  },
  {
   "cell_type": "code",
   "execution_count": 75,
   "metadata": {},
   "outputs": [
    {
     "data": {
      "text/html": [
       "<div>\n",
       "<style scoped>\n",
       "    .dataframe tbody tr th:only-of-type {\n",
       "        vertical-align: middle;\n",
       "    }\n",
       "\n",
       "    .dataframe tbody tr th {\n",
       "        vertical-align: top;\n",
       "    }\n",
       "\n",
       "    .dataframe thead th {\n",
       "        text-align: right;\n",
       "    }\n",
       "</style>\n",
       "<table border=\"1\" class=\"dataframe\">\n",
       "  <thead>\n",
       "    <tr style=\"text-align: right;\">\n",
       "      <th></th>\n",
       "      <th>Questions</th>\n",
       "      <th>Tags</th>\n",
       "    </tr>\n",
       "  </thead>\n",
       "  <tbody>\n",
       "    <tr>\n",
       "      <th>2</th>\n",
       "      <td>Is it possible for a camera to wear out if it ...</td>\n",
       "      <td>__label__webcam __label__durability</td>\n",
       "    </tr>\n",
       "    <tr>\n",
       "      <th>3</th>\n",
       "      <td>Why does the iPhone SE 2016 have worse image q...</td>\n",
       "      <td>__label__image-quality __label__iphone</td>\n",
       "    </tr>\n",
       "    <tr>\n",
       "      <th>4</th>\n",
       "      <td>Are any of these photos any good? closed</td>\n",
       "      <td>__label__canon __label__dslr __label__lighting...</td>\n",
       "    </tr>\n",
       "    <tr>\n",
       "      <th>5</th>\n",
       "      <td>What should I be careful about while buying us...</td>\n",
       "      <td>__label__equipmen __label__recommendation __la...</td>\n",
       "    </tr>\n",
       "    <tr>\n",
       "      <th>6</th>\n",
       "      <td>How can I make part of an image transparent in...</td>\n",
       "      <td>__label__lightroom __label__photo-editing</td>\n",
       "    </tr>\n",
       "  </tbody>\n",
       "</table>\n",
       "</div>"
      ],
      "text/plain": [
       "                                           Questions  \\\n",
       "2  Is it possible for a camera to wear out if it ...   \n",
       "3  Why does the iPhone SE 2016 have worse image q...   \n",
       "4           Are any of these photos any good? closed   \n",
       "5  What should I be careful about while buying us...   \n",
       "6  How can I make part of an image transparent in...   \n",
       "\n",
       "                                                Tags  \n",
       "2                __label__webcam __label__durability  \n",
       "3             __label__image-quality __label__iphone  \n",
       "4  __label__canon __label__dslr __label__lighting...  \n",
       "5  __label__equipmen __label__recommendation __la...  \n",
       "6          __label__lightroom __label__photo-editing  "
      ]
     },
     "execution_count": 75,
     "metadata": {},
     "output_type": "execute_result"
    }
   ],
   "source": [
    "df[\"Tags\"] = [item.replace(\"|\", \" __label__\") for item in df[\"Tags\"]]\n",
    "df['Tags'] ='__label__' + df['Tags'].astype(str)\n",
    "df.head()"
   ]
  },
  {
   "cell_type": "code",
   "execution_count": 76,
   "metadata": {},
   "outputs": [
    {
     "data": {
      "text/html": [
       "<div>\n",
       "<style scoped>\n",
       "    .dataframe tbody tr th:only-of-type {\n",
       "        vertical-align: middle;\n",
       "    }\n",
       "\n",
       "    .dataframe tbody tr th {\n",
       "        vertical-align: top;\n",
       "    }\n",
       "\n",
       "    .dataframe thead th {\n",
       "        text-align: right;\n",
       "    }\n",
       "</style>\n",
       "<table border=\"1\" class=\"dataframe\">\n",
       "  <thead>\n",
       "    <tr style=\"text-align: right;\">\n",
       "      <th></th>\n",
       "      <th>Tags</th>\n",
       "      <th>Questions</th>\n",
       "    </tr>\n",
       "  </thead>\n",
       "  <tbody>\n",
       "    <tr>\n",
       "      <th>2</th>\n",
       "      <td>__label__webcam __label__durability</td>\n",
       "      <td>Is it possible for a camera to wear out if it ...</td>\n",
       "    </tr>\n",
       "    <tr>\n",
       "      <th>3</th>\n",
       "      <td>__label__image-quality __label__iphone</td>\n",
       "      <td>Why does the iPhone SE 2016 have worse image q...</td>\n",
       "    </tr>\n",
       "    <tr>\n",
       "      <th>4</th>\n",
       "      <td>__label__canon __label__dslr __label__lighting...</td>\n",
       "      <td>Are any of these photos any good? closed</td>\n",
       "    </tr>\n",
       "    <tr>\n",
       "      <th>5</th>\n",
       "      <td>__label__equipmen __label__recommendation __la...</td>\n",
       "      <td>What should I be careful about while buying us...</td>\n",
       "    </tr>\n",
       "    <tr>\n",
       "      <th>6</th>\n",
       "      <td>__label__lightroom __label__photo-editing</td>\n",
       "      <td>How can I make part of an image transparent in...</td>\n",
       "    </tr>\n",
       "  </tbody>\n",
       "</table>\n",
       "</div>"
      ],
      "text/plain": [
       "                                                Tags  \\\n",
       "2                __label__webcam __label__durability   \n",
       "3             __label__image-quality __label__iphone   \n",
       "4  __label__canon __label__dslr __label__lighting...   \n",
       "5  __label__equipmen __label__recommendation __la...   \n",
       "6          __label__lightroom __label__photo-editing   \n",
       "\n",
       "                                           Questions  \n",
       "2  Is it possible for a camera to wear out if it ...  \n",
       "3  Why does the iPhone SE 2016 have worse image q...  \n",
       "4           Are any of these photos any good? closed  \n",
       "5  What should I be careful about while buying us...  \n",
       "6  How can I make part of an image transparent in...  "
      ]
     },
     "execution_count": 76,
     "metadata": {},
     "output_type": "execute_result"
    }
   ],
   "source": [
    "columns_titles = [\"Tags\",\"Questions\"]\n",
    "df=df.reindex(columns=columns_titles)\n",
    "df.head()"
   ]
  },
  {
   "cell_type": "markdown",
   "metadata": {},
   "source": [
    "## Writing a .txt file from our datafram data"
   ]
  },
  {
   "cell_type": "code",
   "execution_count": 26,
   "metadata": {},
   "outputs": [],
   "source": [
    "f= open(\"Photo_new.txt\",\"w+\") #open the file for writing\n",
    "f.close() #finally closing the file "
   ]
  },
  {
   "cell_type": "code",
   "execution_count": 27,
   "metadata": {},
   "outputs": [],
   "source": [
    "df.to_csv(r'Photo_new.txt', header=None, index=None, sep=' ', mode='a')"
   ]
  },
  {
   "cell_type": "code",
   "execution_count": 28,
   "metadata": {},
   "outputs": [],
   "source": [
    "with open('Photo_new.txt', 'r') as f, open('Photo_f.txt', 'w') as fo:\n",
    "    for line in f:\n",
    "        fo.write(line.replace('\"', '').replace(\"'\", \"\"))"
   ]
  },
  {
   "cell_type": "code",
   "execution_count": 30,
   "metadata": {},
   "outputs": [
    {
     "name": "stdout",
     "output_type": "stream",
     "text": [
      "__label__canon __label__dslr __label__lighting __label__focus __label__macro Are any of these photos any good? closed\r\n",
      "__label__equipmen __label__recommendation __label__fujifilm __label__used-equipment What should I be careful about while buying used mirrorless camera and lenses?\r\n",
      "__label__lightroom __label__photo-editing How can I make part of an image transparent in Lightroom?\r\n",
      "__label__lightroom __label__keywords __label__smar __label__collections How can I create a Lightroom Smart Collection with multiple and or or conditions?\r\n",
      "__label__flash __label__hotshoe-flash __label__vintage __label__sync-speed Is there a technical reason for modern on-camera flashes flash duration?\r\n",
      "__label__landscape __label__prime __label__focal-distance Fast Prime Wide lens for Landscape Photography and focal distance duplicate\r\n",
      "__label__camera-settings __label__fujifilm How to shortcut the “release or focus priority” on the FujiFilm X-T4?\r\n",
      "__label__effect __label__blur Blur effect or out of focus?\r\n",
      "__label__nikon __label__live-view Using Nikon COOLPIX L840 as a webcam closed\r\n",
      "__label__lighting __label__produc __label__photography How to improve my jewellery photography?\r\n"
     ]
    }
   ],
   "source": [
    "!head Photo_f.txt"
   ]
  },
  {
   "cell_type": "code",
   "execution_count": 77,
   "metadata": {},
   "outputs": [
    {
     "name": "stdout",
     "output_type": "stream",
     "text": [
      "wc: Photo_f.txt: open: No such file or directory\r\n"
     ]
    }
   ],
   "source": [
    "!wc Photo_f.txt"
   ]
  },
  {
   "cell_type": "markdown",
   "metadata": {},
   "source": [
    "## Splitting data into Training and validation datasets"
   ]
  },
  {
   "cell_type": "code",
   "execution_count": 32,
   "metadata": {},
   "outputs": [
    {
     "name": "stdout",
     "output_type": "stream",
     "text": [
      "Number of records for training dataset are: 20626\n",
      "Number of records for validation dataset are: 3640\n"
     ]
    }
   ],
   "source": [
    "train_data= round(len(df)*0.85)\n",
    "validation_data = round(len(df)*0.15) \n",
    "\n",
    "print(\"Number of records for training dataset are:\", train_data)\n",
    "print(\"Number of records for validation dataset are:\", validation_data)"
   ]
  },
  {
   "cell_type": "code",
   "execution_count": 33,
   "metadata": {},
   "outputs": [],
   "source": [
    "training_data =pd.read_table(\"Photo_f.txt\", nrows=train_data,header=None,error_bad_lines=False,sep='\\t')\n",
    "\n",
    "valid_data =pd.read_table(\"Photo_f.txt\",skiprows=train_data,nrows=validation_data,\n",
    "                          header=None,error_bad_lines=False,sep='\\t')"
   ]
  },
  {
   "cell_type": "code",
   "execution_count": 34,
   "metadata": {},
   "outputs": [],
   "source": [
    "# Saving the training and validation files.\n",
    "\n",
    "np.savetxt('photo.train', training_data.values, fmt='%s', delimiter='\\t')\n",
    "np.savetxt('photo.val', valid_data.values, fmt='%s', delimiter='\\t')"
   ]
  },
  {
   "cell_type": "markdown",
   "metadata": {},
   "source": [
    "### Training Data"
   ]
  },
  {
   "cell_type": "code",
   "execution_count": 35,
   "metadata": {},
   "outputs": [
    {
     "name": "stdout",
     "output_type": "stream",
     "text": [
      "                                                   0\n",
      "0  __label__canon __label__dslr __label__lighting...\n",
      "1  __label__equipmen __label__recommendation __la...\n",
      "2  __label__lightroom __label__photo-editing How ...\n",
      "3  __label__lightroom __label__keywords __label__...\n",
      "4  __label__flash __label__hotshoe-flash __label_...\n",
      "20626\n"
     ]
    }
   ],
   "source": [
    "print(training_data.head())\n",
    "print(len(training_data))"
   ]
  },
  {
   "cell_type": "markdown",
   "metadata": {},
   "source": [
    "### Validation Data"
   ]
  },
  {
   "cell_type": "code",
   "execution_count": 36,
   "metadata": {},
   "outputs": [
    {
     "name": "stdout",
     "output_type": "stream",
     "text": [
      "                                                   0\n",
      "0  __label__artifacts __label__lens-flare __label...\n",
      "1  __label__color-management __label__white-balan...\n",
      "2  __label__canon __label__nikon Canon or nikon? ...\n",
      "3  __label__equipmen __label__recommendation __la...\n",
      "4  __label__lens __label__canon __label__autofocu...\n",
      "3640\n"
     ]
    }
   ],
   "source": [
    "print(valid_data.head())\n",
    "print(len(valid_data))"
   ]
  },
  {
   "cell_type": "markdown",
   "metadata": {},
   "source": [
    "## Applying FastText"
   ]
  },
  {
   "cell_type": "code",
   "execution_count": 37,
   "metadata": {},
   "outputs": [
    {
     "name": "stdout",
     "output_type": "stream",
     "text": [
      "Requirement already satisfied: fasttext in /opt/anaconda3/lib/python3.7/site-packages (0.9.2)\n",
      "Requirement already satisfied: pybind11>=2.2 in /opt/anaconda3/lib/python3.7/site-packages (from fasttext) (2.6.0)\n",
      "Requirement already satisfied: setuptools>=0.7.0 in /opt/anaconda3/lib/python3.7/site-packages (from fasttext) (46.0.0.post20200309)\n",
      "Requirement already satisfied: numpy in /opt/anaconda3/lib/python3.7/site-packages (from fasttext) (1.18.1)\n",
      "Note: you may need to restart the kernel to use updated packages.\n"
     ]
    }
   ],
   "source": [
    "pip install fasttext"
   ]
  },
  {
   "cell_type": "code",
   "execution_count": 38,
   "metadata": {},
   "outputs": [],
   "source": [
    "import fasttext"
   ]
  },
  {
   "cell_type": "markdown",
   "metadata": {},
   "source": [
    "### Traing 1st model"
   ]
  },
  {
   "cell_type": "code",
   "execution_count": 39,
   "metadata": {},
   "outputs": [],
   "source": [
    "model_1 = fasttext.train_supervised(input=\"photo.train\")"
   ]
  },
  {
   "cell_type": "code",
   "execution_count": null,
   "metadata": {},
   "outputs": [],
   "source": [
    "model_1.test(\"photo.val\")"
   ]
  },
  {
   "cell_type": "markdown",
   "metadata": {},
   "source": [
    "## Preprocessing the data"
   ]
  },
  {
   "cell_type": "code",
   "execution_count": 41,
   "metadata": {},
   "outputs": [],
   "source": [
    "cat Photo_f.txt | sed -e \"s/\\([.\\!?,'/()]\\)/ \\1 /g\" | tr \"[:upper:]\" \"[:lower:]\" > astronomy_preprocessed.txt"
   ]
  },
  {
   "cell_type": "code",
   "execution_count": 42,
   "metadata": {},
   "outputs": [
    {
     "name": "stdout",
     "output_type": "stream",
     "text": [
      "   24266  363231 2958939 astronomy_preprocessed.txt\r\n"
     ]
    }
   ],
   "source": [
    "!wc astronomy_preprocessed.txt"
   ]
  },
  {
   "cell_type": "code",
   "execution_count": 43,
   "metadata": {},
   "outputs": [],
   "source": [
    "training_data =pd.read_table(\"photo_preprocessed.txt\", nrows=train_data,header=None,error_bad_lines=False,sep='\\t')\n",
    "\n",
    "valid_data =pd.read_table(\"photo_preprocessed.txt\",skiprows=train_data,nrows=validation_data,\n",
    "                          header=None,error_bad_lines=False,sep='\\t')"
   ]
  },
  {
   "cell_type": "code",
   "execution_count": 44,
   "metadata": {},
   "outputs": [],
   "source": [
    "np.savetxt('photo_preprocessed.train', training_data.values, fmt='%s', delimiter='\\t')\n",
    "np.savetxt('photo_preprocessed.val', valid_data.values, fmt='%s', delimiter='\\t')"
   ]
  },
  {
   "cell_type": "markdown",
   "metadata": {},
   "source": [
    "### Training 2nd model with preprocessed data"
   ]
  },
  {
   "cell_type": "code",
   "execution_count": 45,
   "metadata": {},
   "outputs": [],
   "source": [
    "model_2 = fasttext.train_supervised(input=\"photo_preprocessed.train\")"
   ]
  },
  {
   "cell_type": "code",
   "execution_count": 46,
   "metadata": {},
   "outputs": [
    {
     "data": {
      "text/plain": [
       "(3639, 0.27947238252267104, 0.08788454891116489)"
      ]
     },
     "execution_count": 46,
     "metadata": {},
     "output_type": "execute_result"
    }
   ],
   "source": [
    "model_2.test(\"photo_preprocessed.val\")"
   ]
  },
  {
   "cell_type": "markdown",
   "metadata": {},
   "source": [
    "### Training 3rd model with 25 epochs"
   ]
  },
  {
   "cell_type": "code",
   "execution_count": 47,
   "metadata": {},
   "outputs": [],
   "source": [
    "model_3 = fasttext.train_supervised(input=\"photo_preprocessed.train\", epoch=25)"
   ]
  },
  {
   "cell_type": "code",
   "execution_count": 48,
   "metadata": {},
   "outputs": [
    {
     "data": {
      "text/plain": [
       "(3639, 0.5366859027205276, 0.1687694434842724)"
      ]
     },
     "execution_count": 48,
     "metadata": {},
     "output_type": "execute_result"
    }
   ],
   "source": [
    "model_3.test(\"photo_preprocessed.val\")"
   ]
  },
  {
   "cell_type": "markdown",
   "metadata": {},
   "source": [
    "### Training 4th model with epoch and learning rate"
   ]
  },
  {
   "cell_type": "code",
   "execution_count": 49,
   "metadata": {},
   "outputs": [],
   "source": [
    "model_4 = fasttext.train_supervised(input=\"photo_preprocessed.train\", epoch=25, lr=0.3)"
   ]
  },
  {
   "cell_type": "code",
   "execution_count": 50,
   "metadata": {},
   "outputs": [
    {
     "data": {
      "text/plain": [
       "(3639, 0.5784556196757351, 0.18190459730383685)"
      ]
     },
     "execution_count": 50,
     "metadata": {},
     "output_type": "execute_result"
    }
   ],
   "source": [
    "model_4.test(\"photo_preprocessed.val\")"
   ]
  },
  {
   "cell_type": "markdown",
   "metadata": {},
   "source": [
    "### Training 5th model with epoch, learning rate and n-grams"
   ]
  },
  {
   "cell_type": "code",
   "execution_count": 51,
   "metadata": {},
   "outputs": [],
   "source": [
    "model_5 = fasttext.train_supervised(input=\"photo_preprocessed.train\", epoch=25, lr=0.3, wordNgrams=2)"
   ]
  },
  {
   "cell_type": "code",
   "execution_count": 52,
   "metadata": {},
   "outputs": [
    {
     "data": {
      "text/plain": [
       "(3639, 0.5721352019785655, 0.17991704113377116)"
      ]
     },
     "execution_count": 52,
     "metadata": {},
     "output_type": "execute_result"
    }
   ],
   "source": [
    "model_5.test(\"photo_preprocessed.val\")"
   ]
  },
  {
   "cell_type": "markdown",
   "metadata": {},
   "source": [
    "### Training 6th model with epoch, learning rate, loss funtion and n-gram"
   ]
  },
  {
   "cell_type": "code",
   "execution_count": 53,
   "metadata": {},
   "outputs": [],
   "source": [
    "model_6 = fasttext.train_supervised(input=\"photo_preprocessed.train\", epoch=25, lr=0.3, loss='softmax', wordNgrams=2)"
   ]
  },
  {
   "cell_type": "code",
   "execution_count": 54,
   "metadata": {},
   "outputs": [
    {
     "data": {
      "text/plain": [
       "(3639, 0.5743336081341027, 0.1806083650190114)"
      ]
     },
     "execution_count": 54,
     "metadata": {},
     "output_type": "execute_result"
    }
   ],
   "source": [
    "model_6.test(\"photo_preprocessed.val\")"
   ]
  },
  {
   "cell_type": "markdown",
   "metadata": {},
   "source": [
    "### Training 7th model with different hyper parameters"
   ]
  },
  {
   "cell_type": "code",
   "execution_count": 55,
   "metadata": {},
   "outputs": [],
   "source": [
    "model_7 = fasttext.train_supervised(input=\"photo_preprocessed.train\", lr=0.3, epoch=25, bucket=200000, dim=300, loss='softmax', wordNgrams=2)"
   ]
  },
  {
   "cell_type": "code",
   "execution_count": 56,
   "metadata": {},
   "outputs": [
    {
     "data": {
      "text/plain": [
       "(3639, 0.5685627919758175, 0.17879363982025578)"
      ]
     },
     "execution_count": 56,
     "metadata": {},
     "output_type": "execute_result"
    }
   ],
   "source": [
    "model_7.test(\"photo_preprocessed.val\")"
   ]
  },
  {
   "cell_type": "code",
   "execution_count": null,
   "metadata": {},
   "outputs": [],
   "source": []
  }
 ],
 "metadata": {
  "kernelspec": {
   "display_name": "Python 3",
   "language": "python",
   "name": "python3"
  },
  "language_info": {
   "codemirror_mode": {
    "name": "ipython",
    "version": 3
   },
   "file_extension": ".py",
   "mimetype": "text/x-python",
   "name": "python",
   "nbconvert_exporter": "python",
   "pygments_lexer": "ipython3",
   "version": "3.7.6"
  }
 },
 "nbformat": 4,
 "nbformat_minor": 4
}
