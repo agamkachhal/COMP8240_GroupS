{
 "cells": [
  {
   "cell_type": "code",
   "execution_count": 3,
   "metadata": {
    "id": "GWrmrmvz7eIx"
   },
   "outputs": [],
   "source": [
    "\n",
    "import pandas as pd\n",
    "import numpy as np\n",
    "import matplotlib.pyplot as plt\n",
    "import os\n",
    "import time\n",
    "import requests\n",
    "from requests import get\n",
    "#import regex as re\n",
    "from requests import get\n",
    "from bs4 import BeautifulSoup\n",
    "#from wordcloud import WordCloud, STOPWORDS\n",
    "import timeit\n",
    "import nltk\n",
    "from nltk.util import *\n",
    "from nltk.corpus import stopwords\n",
    "import re\n",
    "import seaborn as sns\n",
    "from collections import defaultdict"
   ]
  },
  {
   "cell_type": "code",
   "execution_count": 4,
   "metadata": {
    "colab": {
     "base_uri": "https://localhost:8080/"
    },
    "id": "fqe0m9eX7h8a",
    "outputId": "3ec6e4cf-37c1-4cbf-9071-27a41d9b14f7"
   },
   "outputs": [
    {
     "name": "stdout",
     "output_type": "stream",
     "text": [
      "<!DOCTYPE html>\r\n",
      "\r\n",
      "\r\n",
      "    <html class=\"html__responsive\">\r\n",
      "\r\n",
      "    <head>\r\n",
      "\r\n",
      "        <title>Newest Questions - Photography Stack Exchange</title>\r\n",
      "        <link rel=\"shortcut icon\" href=\"https://cdn.sstatic.net/Sites/photo/Img/favicon.ico?v=20ef505cc470\">\r\n",
      "        <link rel=\"apple-touch-icon\" href=\"https://cdn.sstatic.net/Sites/photo/Img/apple-touch-icon.png?v=0be01e9424b4\">\r\n",
      "        <link rel=\"image_src\" href=\"https://cdn.sstatic.net/Sites/photo/Img/apple-touch-icon.png?v=0be01e9424b4\"> \r\n",
      "        \n"
     ]
    }
   ],
   "source": [
    "\n",
    "url = 'https://photo.stackexchange.com/questions'\n",
    "time.sleep(5)\n",
    "# Getting the response from the source URL.\n",
    "response = get(url)\n",
    "print(response.text[:500])\n"
   ]
  },
  {
   "cell_type": "code",
   "execution_count": 5,
   "metadata": {
    "id": "nigvjleO9MjI"
   },
   "outputs": [],
   "source": [
    "\n",
    "# Parsing respose.txt by creating a BeautifulSoup object and assigning it to htlm_soup.\n",
    "time.sleep(5)\n",
    "html_soup = BeautifulSoup(response.text, 'html.parser')"
   ]
  },
  {
   "cell_type": "code",
   "execution_count": 6,
   "metadata": {
    "colab": {
     "base_uri": "https://localhost:8080/"
    },
    "id": "73RsR08l9PKi",
    "outputId": "7e201cc5-4884-41d7-fa71-d12849cb2aee"
   },
   "outputs": [
    {
     "name": "stdout",
     "output_type": "stream",
     "text": [
      "<class 'bs4.element.ResultSet'>\n",
      "50\n"
     ]
    }
   ],
   "source": [
    "Questions_EachPage = html_soup.find_all('div', class_ = 'question-summary')\n",
    "print(type(Questions_EachPage))\n",
    "print(len(Questions_EachPage))"
   ]
  },
  {
   "cell_type": "code",
   "execution_count": 7,
   "metadata": {
    "id": "BgZBnQK39Vlh"
   },
   "outputs": [],
   "source": [
    "from urllib.request import urlopen \n",
    "from socket import timeout\n",
    "\n",
    "url = \"https://photo.stackexchange.com/questions?tab=newest&pagesize=50\"\n",
    "try: \n",
    "    string = urlopen(url, timeout=5).read()\n",
    "except ConnectionResetError:\n",
    "    print(\"==> ConnectionResetError\")\n",
    "    pass\n",
    "except timeout: \n",
    "    print(\"==> Timeout\")\n",
    "    pass"
   ]
  },
  {
   "cell_type": "code",
   "execution_count": 8,
   "metadata": {
    "colab": {
     "base_uri": "https://localhost:8080/"
    },
    "id": "vr2r9hAt9y7L",
    "outputId": "db1ec20e-810c-43eb-b4f3-5f6cceb6bf65"
   },
   "outputs": [
    {
     "name": "stdout",
     "output_type": "stream",
     "text": [
      "600\n"
     ]
    }
   ],
   "source": [
    "pages_list=[]                         # Empty list that will be appended with the page count\n",
    "\n",
    "pages_list.append(\"https://photo.stackexchange.com/questions?tab=newest&pagesize=50\")\n",
    "\n",
    "for page in list(range(2, 601)):     # Looping over first 400 webpages\n",
    "\n",
    "  pages_list.append('https://photo.stackexchange.com/questions?tab=newest&page='+str(page))\n",
    "  \n",
    "print(len(pages_list))"
   ]
  },
  {
   "cell_type": "code",
   "execution_count": 9,
   "metadata": {
    "id": "qq1Oa9ze9zvA"
   },
   "outputs": [],
   "source": [
    "questions_list=[]                     # Creating an empty list of questions that will be appended with the question counts.\n",
    "\n",
    "# time.sleep(5)\n",
    "for x in pages_list:                  # Looping over all the pages in the page list\n",
    "  page = requests.get(x)\n",
    "  soup = BeautifulSoup(page.text, 'html.parser')\n",
    "\n",
    "  question_name = soup.find_all('h3')   # Finding the h3 tag that has details of the question\n",
    "  for question in question_name:\n",
    "        if question.find('a'):\n",
    "            questions_list.append(question.find('a').text)"
   ]
  },
  {
   "cell_type": "code",
   "execution_count": 10,
   "metadata": {
    "colab": {
     "base_uri": "https://localhost:8080/"
    },
    "id": "GzFByyePCw7X",
    "outputId": "0bb49782-2ead-40f7-ecb7-07cfde51282e"
   },
   "outputs": [
    {
     "name": "stdout",
     "output_type": "stream",
     "text": [
      "25465\n",
      "['current community', 'more stack exchange communities', 'What should I be careful about while buying used mirrorless camera and lenses?', 'How can I make part of an image transparent in Lightroom?', 'Confused about Lightroom Smart Collection conditions', \"Is there a technical reason for modern on-camera flashes' flash duration?\", 'Fast Prime Wide lens for Landscape Photography and focal distance [duplicate]', 'How to shortcut the “release/focus priority” on the FujiFilm X-T4?', 'Blur effect or out of focus?', 'Using Nikon COOLPIX L840 as a webcam [closed]', 'How to improve my jewellery photography?']\n"
     ]
    }
   ],
   "source": [
    "print(len(questions_list))\n",
    "print(questions_list[:11])"
   ]
  },
  {
   "cell_type": "code",
   "execution_count": 11,
   "metadata": {
    "id": "S6CQ9gUcDBmL"
   },
   "outputs": [],
   "source": [
    "# To get the tags from the webpage\n",
    "\n",
    "def ListToString(string):\n",
    "  # initialize an empty string \n",
    "  string1 = \"\"\n",
    "    \n",
    "  # traverse in the string   \n",
    "  for element in string:  \n",
    "      string1 = string1 + element   \n",
    "     \n",
    "  return string1\n",
    "\n",
    "\n",
    "tag=[]\n",
    "\n",
    "for x in pages_list:\n",
    "  page = requests.get(x)\n",
    "  soup = BeautifulSoup(page.text, 'html.parser')\n",
    "\n",
    "  tags=[]\n",
    "\n",
    "  for div in soup.find_all('div', {\"class\": re.compile(\"^tags\")}):      \n",
    "    tags.append(div.get('class')[1:])\n",
    "\n",
    "\n",
    "\n",
    "  clean_tags=[]\n",
    "\n",
    "  for i in tags:\n",
    "    clean_tags.append(ListToString(i).replace('t-','|'))\n",
    "\n",
    "\n",
    "\n",
    "  for j in clean_tags:\n",
    "    tag.append(j[1:])"
   ]
  },
  {
   "cell_type": "code",
   "execution_count": 12,
   "metadata": {
    "colab": {
     "base_uri": "https://localhost:8080/"
    },
    "id": "5mm4LDD2DJu-",
    "outputId": "23bc4489-bfcf-4ad2-e2b0-d1342509582c"
   },
   "outputs": [
    {
     "name": "stdout",
     "output_type": "stream",
     "text": [
      "24265\n",
      "['equipmen|recommendation|fujifilm|used-equipment', 'lightroom|photo-editing', 'lightroom|keywords|smar|collections', 'flash|hotshoe-flash|vintage|sync-speed', 'landscape|prime|focal-distance', 'camera-settings|fujifilm', 'effect|blur', 'nikon|live-view', 'lighting|produc|photography', 'lens|error|canon-5d-mark-iii', 'nikon|image-quality|nikon-d5600']\n"
     ]
    }
   ],
   "source": [
    "print(len(tag))\n",
    "print(tag[:11])"
   ]
  },
  {
   "cell_type": "code",
   "execution_count": 13,
   "metadata": {
    "colab": {
     "base_uri": "https://localhost:8080/",
     "height": 359
    },
    "id": "hxlzYCRFGalC",
    "outputId": "f918e682-da1b-47c3-eaa8-e6403288f34e"
   },
   "outputs": [
    {
     "data": {
      "text/html": [
       "<div>\n",
       "<style scoped>\n",
       "    .dataframe tbody tr th:only-of-type {\n",
       "        vertical-align: middle;\n",
       "    }\n",
       "\n",
       "    .dataframe tbody tr th {\n",
       "        vertical-align: top;\n",
       "    }\n",
       "\n",
       "    .dataframe thead th {\n",
       "        text-align: right;\n",
       "    }\n",
       "</style>\n",
       "<table border=\"1\" class=\"dataframe\">\n",
       "  <thead>\n",
       "    <tr style=\"text-align: right;\">\n",
       "      <th></th>\n",
       "      <th>Tags</th>\n",
       "      <th>Questions</th>\n",
       "    </tr>\n",
       "  </thead>\n",
       "  <tbody>\n",
       "    <tr>\n",
       "      <th>0</th>\n",
       "      <td>equipmen|recommendation|fujifilm|used-equipment</td>\n",
       "      <td>current community</td>\n",
       "    </tr>\n",
       "    <tr>\n",
       "      <th>1</th>\n",
       "      <td>lightroom|photo-editing</td>\n",
       "      <td>more stack exchange communities</td>\n",
       "    </tr>\n",
       "    <tr>\n",
       "      <th>2</th>\n",
       "      <td>lightroom|keywords|smar|collections</td>\n",
       "      <td>What should I be careful about while buying us...</td>\n",
       "    </tr>\n",
       "    <tr>\n",
       "      <th>3</th>\n",
       "      <td>flash|hotshoe-flash|vintage|sync-speed</td>\n",
       "      <td>How can I make part of an image transparent in...</td>\n",
       "    </tr>\n",
       "    <tr>\n",
       "      <th>4</th>\n",
       "      <td>landscape|prime|focal-distance</td>\n",
       "      <td>Confused about Lightroom Smart Collection cond...</td>\n",
       "    </tr>\n",
       "    <tr>\n",
       "      <th>5</th>\n",
       "      <td>camera-settings|fujifilm</td>\n",
       "      <td>Is there a technical reason for modern on-came...</td>\n",
       "    </tr>\n",
       "    <tr>\n",
       "      <th>6</th>\n",
       "      <td>effect|blur</td>\n",
       "      <td>Fast Prime Wide lens for Landscape Photography...</td>\n",
       "    </tr>\n",
       "    <tr>\n",
       "      <th>7</th>\n",
       "      <td>nikon|live-view</td>\n",
       "      <td>How to shortcut the “release/focus priority” o...</td>\n",
       "    </tr>\n",
       "    <tr>\n",
       "      <th>8</th>\n",
       "      <td>lighting|produc|photography</td>\n",
       "      <td>Blur effect or out of focus?</td>\n",
       "    </tr>\n",
       "    <tr>\n",
       "      <th>9</th>\n",
       "      <td>lens|error|canon-5d-mark-iii</td>\n",
       "      <td>Using Nikon COOLPIX L840 as a webcam [closed]</td>\n",
       "    </tr>\n",
       "  </tbody>\n",
       "</table>\n",
       "</div>"
      ],
      "text/plain": [
       "                                              Tags  \\\n",
       "0  equipmen|recommendation|fujifilm|used-equipment   \n",
       "1                          lightroom|photo-editing   \n",
       "2              lightroom|keywords|smar|collections   \n",
       "3           flash|hotshoe-flash|vintage|sync-speed   \n",
       "4                   landscape|prime|focal-distance   \n",
       "5                         camera-settings|fujifilm   \n",
       "6                                      effect|blur   \n",
       "7                                  nikon|live-view   \n",
       "8                      lighting|produc|photography   \n",
       "9                     lens|error|canon-5d-mark-iii   \n",
       "\n",
       "                                           Questions  \n",
       "0                                  current community  \n",
       "1                    more stack exchange communities  \n",
       "2  What should I be careful about while buying us...  \n",
       "3  How can I make part of an image transparent in...  \n",
       "4  Confused about Lightroom Smart Collection cond...  \n",
       "5  Is there a technical reason for modern on-came...  \n",
       "6  Fast Prime Wide lens for Landscape Photography...  \n",
       "7  How to shortcut the “release/focus priority” o...  \n",
       "8                       Blur effect or out of focus?  \n",
       "9      Using Nikon COOLPIX L840 as a webcam [closed]  "
      ]
     },
     "execution_count": 13,
     "metadata": {},
     "output_type": "execute_result"
    }
   ],
   "source": [
    "\n",
    "# Creating a dataframe for questions and tags\n",
    "\n",
    "ask_photo_df = pd.DataFrame(list(zip(tag, questions_list)), columns =['Tags', 'Questions']) \n",
    "ask_photo_df.head(10)"
   ]
  },
  {
   "cell_type": "code",
   "execution_count": 14,
   "metadata": {
    "id": "VFYmfIErH2QX"
   },
   "outputs": [],
   "source": [
    "\n",
    "ask_photo_df['Questions'] = ask_photo_df['Questions'].str.replace('()','')\n",
    "ask_photo_df['Questions'] = ask_photo_df['Questions'].str.replace(';','')\n",
    "ask_photo_df['Questions'] = ask_photo_df['Questions'].str.replace(':','')\n",
    "ask_photo_df['Questions'] = ask_photo_df['Questions'].str.replace('/','')\n",
    "\n",
    "\n",
    "ask_photo_df['Tags'] = ask_photo_df['Tags'].str.replace('()','')\n",
    "ask_photo_df['Tags'] = ask_photo_df['Tags'].str.replace(';','')\n",
    "ask_photo_df['Tags'] = ask_photo_df['Tags'].str.replace(':','')\n",
    "ask_photo_df['Tags'] = ask_photo_df['Tags'].str.replace('û','.')\n",
    "ask_photo_df['Tags'] = ask_photo_df['Tags'].str.replace('\\t','')"
   ]
  },
  {
   "cell_type": "code",
   "execution_count": 15,
   "metadata": {
    "id": "RtYsJ-tfIEuh"
   },
   "outputs": [],
   "source": [
    "ask_photo_tags = ' '.join(ask_photo_df['Tags'].str.lower())"
   ]
  },
  {
   "cell_type": "code",
   "execution_count": 17,
   "metadata": {
    "colab": {
     "base_uri": "https://localhost:8080/",
     "height": 204
    },
    "id": "E-WPmHjKIoAE",
    "outputId": "dbf92c01-d979-4087-aff1-b6d892ab95c3"
   },
   "outputs": [
    {
     "data": {
      "text/html": [
       "<div>\n",
       "<style scoped>\n",
       "    .dataframe tbody tr th:only-of-type {\n",
       "        vertical-align: middle;\n",
       "    }\n",
       "\n",
       "    .dataframe tbody tr th {\n",
       "        vertical-align: top;\n",
       "    }\n",
       "\n",
       "    .dataframe thead th {\n",
       "        text-align: right;\n",
       "    }\n",
       "</style>\n",
       "<table border=\"1\" class=\"dataframe\">\n",
       "  <thead>\n",
       "    <tr style=\"text-align: right;\">\n",
       "      <th></th>\n",
       "      <th>Tags</th>\n",
       "      <th>Questions</th>\n",
       "    </tr>\n",
       "  </thead>\n",
       "  <tbody>\n",
       "    <tr>\n",
       "      <th>0</th>\n",
       "      <td>__label__equipmen __label__recommendation __la...</td>\n",
       "      <td>current community</td>\n",
       "    </tr>\n",
       "    <tr>\n",
       "      <th>1</th>\n",
       "      <td>__label__lightroom __label__photo-editing</td>\n",
       "      <td>more stack exchange communities</td>\n",
       "    </tr>\n",
       "    <tr>\n",
       "      <th>2</th>\n",
       "      <td>__label__lightroom __label__keywords __label__...</td>\n",
       "      <td>What should I be careful about while buying us...</td>\n",
       "    </tr>\n",
       "    <tr>\n",
       "      <th>3</th>\n",
       "      <td>__label__flash __label__hotshoe-flash __label_...</td>\n",
       "      <td>How can I make part of an image transparent in...</td>\n",
       "    </tr>\n",
       "    <tr>\n",
       "      <th>4</th>\n",
       "      <td>__label__landscape __label__prime __label__foc...</td>\n",
       "      <td>Confused about Lightroom Smart Collection cond...</td>\n",
       "    </tr>\n",
       "  </tbody>\n",
       "</table>\n",
       "</div>"
      ],
      "text/plain": [
       "                                                Tags  \\\n",
       "0  __label__equipmen __label__recommendation __la...   \n",
       "1          __label__lightroom __label__photo-editing   \n",
       "2  __label__lightroom __label__keywords __label__...   \n",
       "3  __label__flash __label__hotshoe-flash __label_...   \n",
       "4  __label__landscape __label__prime __label__foc...   \n",
       "\n",
       "                                           Questions  \n",
       "0                                  current community  \n",
       "1                    more stack exchange communities  \n",
       "2  What should I be careful about while buying us...  \n",
       "3  How can I make part of an image transparent in...  \n",
       "4  Confused about Lightroom Smart Collection cond...  "
      ]
     },
     "execution_count": 17,
     "metadata": {},
     "output_type": "execute_result"
    }
   ],
   "source": [
    "ask_photo_df[\"Tags\"] = [item.replace(\"|\", \" __label__\") for item in ask_photo_df[\"Tags\"]]\n",
    "ask_photo_df['Tags'] ='__label__' + ask_photo_df['Tags'].astype(str)\n",
    "ask_photo_df.head()"
   ]
  },
  {
   "cell_type": "code",
   "execution_count": 18,
   "metadata": {
    "id": "HFMpILcDJO2g"
   },
   "outputs": [],
   "source": [
    "ask_photo_tags = ' '.join(ask_photo_df['Tags'].str.lower())"
   ]
  },
  {
   "cell_type": "code",
   "execution_count": 19,
   "metadata": {},
   "outputs": [
    {
     "data": {
      "text/html": [
       "<div>\n",
       "<style scoped>\n",
       "    .dataframe tbody tr th:only-of-type {\n",
       "        vertical-align: middle;\n",
       "    }\n",
       "\n",
       "    .dataframe tbody tr th {\n",
       "        vertical-align: top;\n",
       "    }\n",
       "\n",
       "    .dataframe thead th {\n",
       "        text-align: right;\n",
       "    }\n",
       "</style>\n",
       "<table border=\"1\" class=\"dataframe\">\n",
       "  <thead>\n",
       "    <tr style=\"text-align: right;\">\n",
       "      <th></th>\n",
       "      <th>Tags</th>\n",
       "      <th>Questions</th>\n",
       "    </tr>\n",
       "  </thead>\n",
       "  <tbody>\n",
       "    <tr>\n",
       "      <th>0</th>\n",
       "      <td>__label____label__equipmen __label__recommenda...</td>\n",
       "      <td>current community</td>\n",
       "    </tr>\n",
       "    <tr>\n",
       "      <th>1</th>\n",
       "      <td>__label____label__lightroom __label__photo-edi...</td>\n",
       "      <td>more stack exchange communities</td>\n",
       "    </tr>\n",
       "    <tr>\n",
       "      <th>2</th>\n",
       "      <td>__label____label__lightroom __label__keywords ...</td>\n",
       "      <td>What should I be careful about while buying us...</td>\n",
       "    </tr>\n",
       "    <tr>\n",
       "      <th>3</th>\n",
       "      <td>__label____label__flash __label__hotshoe-flash...</td>\n",
       "      <td>How can I make part of an image transparent in...</td>\n",
       "    </tr>\n",
       "    <tr>\n",
       "      <th>4</th>\n",
       "      <td>__label____label__landscape __label__prime __l...</td>\n",
       "      <td>Confused about Lightroom Smart Collection cond...</td>\n",
       "    </tr>\n",
       "  </tbody>\n",
       "</table>\n",
       "</div>"
      ],
      "text/plain": [
       "                                                Tags  \\\n",
       "0  __label____label__equipmen __label__recommenda...   \n",
       "1  __label____label__lightroom __label__photo-edi...   \n",
       "2  __label____label__lightroom __label__keywords ...   \n",
       "3  __label____label__flash __label__hotshoe-flash...   \n",
       "4  __label____label__landscape __label__prime __l...   \n",
       "\n",
       "                                           Questions  \n",
       "0                                  current community  \n",
       "1                    more stack exchange communities  \n",
       "2  What should I be careful about while buying us...  \n",
       "3  How can I make part of an image transparent in...  \n",
       "4  Confused about Lightroom Smart Collection cond...  "
      ]
     },
     "execution_count": 19,
     "metadata": {},
     "output_type": "execute_result"
    }
   ],
   "source": [
    "ask_photo_df[\"Tags\"] = [item.replace(\"|\", \" __label__\") for item in ask_photo_df[\"Tags\"]]\n",
    "ask_photo_df['Tags'] ='__label__' + ask_photo_df['Tags'].astype(str)\n",
    "ask_photo_df.head()"
   ]
  },
  {
   "cell_type": "code",
   "execution_count": 20,
   "metadata": {},
   "outputs": [],
   "source": [
    "f= open(\"Photography_txt.txt\",\"w+\") #open the file for writing\n",
    "f.close() #finally closing the file"
   ]
  },
  {
   "cell_type": "code",
   "execution_count": 21,
   "metadata": {},
   "outputs": [],
   "source": [
    "ask_photo_df.to_csv(r'Photography_txt.txt', header=None, index=None, sep=' ', mode='a')"
   ]
  },
  {
   "cell_type": "code",
   "execution_count": 22,
   "metadata": {},
   "outputs": [],
   "source": [
    "with open('Photography_txt.txt', 'r') as f, open('photo.txt', 'w') as fo:\n",
    "    for line in f:\n",
    "        fo.write(line.replace('\"', '').replace(\"'\", \"\"))"
   ]
  },
  {
   "cell_type": "code",
   "execution_count": 23,
   "metadata": {},
   "outputs": [
    {
     "name": "stdout",
     "output_type": "stream",
     "text": [
      "__label____label__equipmen __label__recommendation __label__fujifilm __label__used-equipment current community\r\n",
      "__label____label__lightroom __label__photo-editing more stack exchange communities\r\n",
      "__label____label__lightroom __label__keywords __label__smar __label__collections What should I be careful about while buying used mirrorless camera and lenses?\r\n",
      "__label____label__flash __label__hotshoe-flash __label__vintage __label__sync-speed How can I make part of an image transparent in Lightroom?\r\n",
      "__label____label__landscape __label__prime __label__focal-distance Confused about Lightroom Smart Collection conditions\r\n",
      "__label____label__camera-settings __label__fujifilm Is there a technical reason for modern on-camera flashes flash duration?\r\n",
      "__label____label__effect __label__blur Fast Prime Wide lens for Landscape Photography and focal distance [duplicate]\r\n",
      "__label____label__nikon __label__live-view How to shortcut the “releasefocus priority” on the FujiFilm X-T4?\r\n",
      "__label____label__lighting __label__produc __label__photography Blur effect or out of focus?\r\n",
      "__label____label__lens __label__error __label__canon-5d-mark-iii Using Nikon COOLPIX L840 as a webcam [closed]\r\n"
     ]
    }
   ],
   "source": [
    "!head photo.txt"
   ]
  },
  {
   "cell_type": "code",
   "execution_count": 24,
   "metadata": {},
   "outputs": [
    {
     "name": "stdout",
     "output_type": "stream",
     "text": [
      "   24265  331864 3106498 photo.txt\r\n"
     ]
    }
   ],
   "source": [
    "!wc photo.txt"
   ]
  },
  {
   "cell_type": "code",
   "execution_count": 25,
   "metadata": {},
   "outputs": [
    {
     "name": "stdout",
     "output_type": "stream",
     "text": [
      "18199\n"
     ]
    },
    {
     "data": {
      "text/plain": [
       "6066"
      ]
     },
     "execution_count": 25,
     "metadata": {},
     "output_type": "execute_result"
    }
   ],
   "source": [
    "a= int(round(len(ask_photo_df)*0.75, 0))\n",
    "print(a)\n",
    "b= int(round(len(ask_photo_df)*0.25, 0))\n",
    "b"
   ]
  },
  {
   "cell_type": "code",
   "execution_count": 26,
   "metadata": {},
   "outputs": [],
   "source": [
    "!head -n 18198 photo.txt > photo.train\n",
    "!tail -n 6066 photo.txt > photo.valid"
   ]
  },
  {
   "cell_type": "code",
   "execution_count": 27,
   "metadata": {},
   "outputs": [
    {
     "name": "stdout",
     "output_type": "stream",
     "text": [
      "Requirement already satisfied: fasttext in /opt/anaconda3/lib/python3.7/site-packages (0.9.2)\n",
      "Requirement already satisfied: pybind11>=2.2 in /opt/anaconda3/lib/python3.7/site-packages (from fasttext) (2.6.0)\n",
      "Requirement already satisfied: numpy in /opt/anaconda3/lib/python3.7/site-packages (from fasttext) (1.18.1)\n",
      "Requirement already satisfied: setuptools>=0.7.0 in /opt/anaconda3/lib/python3.7/site-packages (from fasttext) (46.0.0.post20200309)\n",
      "Note: you may need to restart the kernel to use updated packages.\n"
     ]
    }
   ],
   "source": [
    "pip install fasttext"
   ]
  },
  {
   "cell_type": "code",
   "execution_count": 28,
   "metadata": {},
   "outputs": [],
   "source": [
    "import fasttext"
   ]
  },
  {
   "cell_type": "code",
   "execution_count": 29,
   "metadata": {},
   "outputs": [],
   "source": [
    "model = fasttext.train_supervised(input=\"photo.train\")"
   ]
  },
  {
   "cell_type": "code",
   "execution_count": 30,
   "metadata": {},
   "outputs": [
    {
     "data": {
      "text/plain": [
       "(('__label____label__lens',), array([0.0322944]))"
      ]
     },
     "execution_count": 30,
     "metadata": {},
     "output_type": "execute_result"
    }
   ],
   "source": [
    "model.predict(\"Is there a technical reason for modern on-camera flashes' flash duration?\")"
   ]
  },
  {
   "cell_type": "code",
   "execution_count": 31,
   "metadata": {},
   "outputs": [
    {
     "data": {
      "text/plain": [
       "(6043, 0.13221909647526064, 0.04104381774284687)"
      ]
     },
     "execution_count": 31,
     "metadata": {},
     "output_type": "execute_result"
    }
   ],
   "source": [
    "model.test(\"photo.valid\")"
   ]
  },
  {
   "cell_type": "code",
   "execution_count": 32,
   "metadata": {},
   "outputs": [
    {
     "data": {
      "text/plain": [
       "(6043, 0.054343868939268576, 0.08434787075563775)"
      ]
     },
     "execution_count": 32,
     "metadata": {},
     "output_type": "execute_result"
    }
   ],
   "source": [
    "model.test(\"photo.valid\", k=5)"
   ]
  },
  {
   "cell_type": "code",
   "execution_count": 33,
   "metadata": {},
   "outputs": [
    {
     "data": {
      "text/plain": [
       "(('__label____label__lens',\n",
       "  '__label____label__canon',\n",
       "  '__label____label__nikon',\n",
       "  '__label____label__lightroom',\n",
       "  '__label____label__film'),\n",
       " array([0.0322944 , 0.02655394, 0.01967868, 0.015914  , 0.0133177 ]))"
      ]
     },
     "execution_count": 33,
     "metadata": {},
     "output_type": "execute_result"
    }
   ],
   "source": [
    "model.predict(\"Is there a technical reason for modern on-camera flashes' flash duration?\", k=5)"
   ]
  },
  {
   "cell_type": "code",
   "execution_count": 34,
   "metadata": {},
   "outputs": [],
   "source": [
    "cat photo.txt | sed -e \"s/\\([.\\!?,'/()]\\)/ \\1 /g\" | tr \"[:upper:]\" \"[:lower:]\" > photo.preprocessed.txt"
   ]
  },
  {
   "cell_type": "code",
   "execution_count": 35,
   "metadata": {},
   "outputs": [],
   "source": [
    "!head -n 18198 photo.preprocessed.txt > photo.train"
   ]
  },
  {
   "cell_type": "code",
   "execution_count": 36,
   "metadata": {},
   "outputs": [],
   "source": [
    "!tail -n 6065 photo.preprocessed.txt > photo.valid"
   ]
  },
  {
   "cell_type": "code",
   "execution_count": 37,
   "metadata": {},
   "outputs": [],
   "source": [
    "model = fasttext.train_supervised(input=\"photo.train\")"
   ]
  },
  {
   "cell_type": "code",
   "execution_count": 38,
   "metadata": {},
   "outputs": [
    {
     "data": {
      "text/plain": [
       "(6042, 0.13224097980801058, 0.041056471918195364)"
      ]
     },
     "execution_count": 38,
     "metadata": {},
     "output_type": "execute_result"
    }
   ],
   "source": [
    "model.test(\"photo.valid\")"
   ]
  },
  {
   "cell_type": "code",
   "execution_count": 39,
   "metadata": {},
   "outputs": [],
   "source": [
    "model = fasttext.train_supervised(input=\"photo.train\", epoch=25)"
   ]
  },
  {
   "cell_type": "code",
   "execution_count": 40,
   "metadata": {},
   "outputs": [
    {
     "data": {
      "text/plain": [
       "(6042, 0.1178417742469381, 0.03658599249781615)"
      ]
     },
     "execution_count": 40,
     "metadata": {},
     "output_type": "execute_result"
    }
   ],
   "source": [
    "model.test(\"photo.valid\")"
   ]
  },
  {
   "cell_type": "code",
   "execution_count": 41,
   "metadata": {},
   "outputs": [],
   "source": [
    "model = fasttext.train_supervised(input=\"photo.train\", lr=0.03)"
   ]
  },
  {
   "cell_type": "code",
   "execution_count": 42,
   "metadata": {},
   "outputs": [
    {
     "data": {
      "text/plain": [
       "(6042, 0.13224097980801058, 0.041056471918195364)"
      ]
     },
     "execution_count": 42,
     "metadata": {},
     "output_type": "execute_result"
    }
   ],
   "source": [
    "model.test(\"photo.valid\")"
   ]
  },
  {
   "cell_type": "code",
   "execution_count": 43,
   "metadata": {},
   "outputs": [],
   "source": [
    "model = fasttext.train_supervised(input=\"photo.train\", lr=0.03, epoch=50)"
   ]
  },
  {
   "cell_type": "code",
   "execution_count": 44,
   "metadata": {},
   "outputs": [
    {
     "data": {
      "text/plain": [
       "(6042, 0.13058589870903675, 0.04054262370895637)"
      ]
     },
     "execution_count": 44,
     "metadata": {},
     "output_type": "execute_result"
    }
   ],
   "source": [
    "model.test(\"photo.valid\")"
   ]
  },
  {
   "cell_type": "code",
   "execution_count": 45,
   "metadata": {},
   "outputs": [],
   "source": [
    "model = fasttext.train_supervised(input=\"photo.train\", lr=0.03, epoch=50, wordNgrams=2)"
   ]
  },
  {
   "cell_type": "code",
   "execution_count": 46,
   "metadata": {},
   "outputs": [
    {
     "data": {
      "text/plain": [
       "(6042, 0.13224097980801058, 0.041056471918195364)"
      ]
     },
     "execution_count": 46,
     "metadata": {},
     "output_type": "execute_result"
    }
   ],
   "source": [
    "model.test(\"photo.valid\")"
   ]
  },
  {
   "cell_type": "code",
   "execution_count": 47,
   "metadata": {},
   "outputs": [],
   "source": [
    "model = fasttext.train_supervised(input=\"photo.train\", lr=0.03, epoch=50, wordNgrams=2, bucket=200000, dim=50, loss='hs')"
   ]
  },
  {
   "cell_type": "code",
   "execution_count": 48,
   "metadata": {},
   "outputs": [
    {
     "data": {
      "text/plain": [
       "(6042, 0.12528963919232042, 0.038898309439391605)"
      ]
     },
     "execution_count": 48,
     "metadata": {},
     "output_type": "execute_result"
    }
   ],
   "source": [
    "model.test(\"photo.valid\") #complete"
   ]
  },
  {
   "cell_type": "code",
   "execution_count": null,
   "metadata": {},
   "outputs": [],
   "source": []
  },
  {
   "cell_type": "code",
   "execution_count": null,
   "metadata": {},
   "outputs": [],
   "source": []
  }
 ],
 "metadata": {
  "colab": {
   "name": "Photography_full.ipynb",
   "provenance": []
  },
  "kernelspec": {
   "display_name": "Python 3",
   "language": "python",
   "name": "python3"
  },
  "language_info": {
   "codemirror_mode": {
    "name": "ipython",
    "version": 3
   },
   "file_extension": ".py",
   "mimetype": "text/x-python",
   "name": "python",
   "nbconvert_exporter": "python",
   "pygments_lexer": "ipython3",
   "version": "3.7.6"
  }
 },
 "nbformat": 4,
 "nbformat_minor": 1
}
