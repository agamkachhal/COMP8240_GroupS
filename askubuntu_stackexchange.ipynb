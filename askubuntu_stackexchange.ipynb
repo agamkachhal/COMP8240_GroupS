{
 "cells": [
  {
   "cell_type": "markdown",
   "metadata": {
    "id": "L7RsDx3nsCwg"
   },
   "source": [
    "**Stack Exchange - Data Scraping for Questions and Tags**"
   ]
  },
  {
   "cell_type": "markdown",
   "metadata": {
    "id": "E25rdUdmsECM"
   },
   "source": [
    "We want to scrape the distributions of numbers of Questions & Tags for the webpage [Stack Echange - ask ubuntu](https://askubuntu.com/) to see if we find anything interesting. To do this, we’ll first scrape data related to Questions and Tags from Stack Exchange webpage for all the respective pages.\n"
   ]
  },
  {
   "cell_type": "markdown",
   "metadata": {
    "id": "ZspnNaeGsKG8"
   },
   "source": [
    "**Working out which pages to scrape**"
   ]
  },
  {
   "cell_type": "markdown",
   "metadata": {
    "id": "ry3jUx50sMA-"
   },
   "source": [
    "  Once we've defined our goal, we then need to identify an efficient set of pages to scrape. In order to scrape data from the respective web pages, we use the `request` library. A request is what happens when we access a web page. We 'request' the content of a page from the server."
   ]
  },
  {
   "cell_type": "code",
   "execution_count": 1,
   "metadata": {
    "id": "DVS4dXLTwBeb"
   },
   "outputs": [],
   "source": [
    "import pandas as pd\n",
    "import numpy as np\n",
    "import os\n",
    "import time\n",
    "import requests\n",
    "from requests import get\n",
    "import regex as re\n",
    "from requests import get\n",
    "from bs4 import BeautifulSoup"
   ]
  },
  {
   "cell_type": "code",
   "execution_count": 2,
   "metadata": {
    "colab": {
     "base_uri": "https://localhost:8080/",
     "height": 214
    },
    "id": "A3b5CtLsuKHg",
    "outputId": "94dbea83-e295-4031-9029-653d157f11b4"
   },
   "outputs": [
    {
     "name": "stdout",
     "output_type": "stream",
     "text": [
      "<!DOCTYPE html>\r\n",
      "\r\n",
      "\r\n",
      "    <html class=\"html__responsive\">\r\n",
      "\r\n",
      "    <head>\r\n",
      "\r\n",
      "        <title>Newest Questions - Ask Ubuntu</title>\r\n",
      "        <link rel=\"shortcut icon\" href=\"https://cdn.sstatic.net/Sites/askubuntu/Img/favicon.ico?v=928dfb7c1990\">\r\n",
      "        <link rel=\"apple-touch-icon\" href=\"https://cdn.sstatic.net/Sites/askubuntu/Img/apple-touch-icon.png?v=e16e1315edd6\">\r\n",
      "        <link rel=\"image_src\" href=\"https://cdn.sstatic.net/Sites/askubuntu/Img/apple-touch-icon.png?v=e16e1315edd6\"> \r\n",
      "        <lin\n"
     ]
    }
   ],
   "source": [
    "url = 'https://askubuntu.com/questions'\n",
    "time.sleep(5)\n",
    "# Getting the response from the source URL.\n",
    "response = get(url)\n",
    "print(response.text[:500])"
   ]
  },
  {
   "cell_type": "markdown",
   "metadata": {
    "id": "7Zp771DszNMF"
   },
   "source": [
    "As we can see from the first line of response.text, the server sent us an HTML document. This document describes the overall structure of that web page, along with its specific content (which is what makes that particular page unique)."
   ]
  },
  {
   "cell_type": "code",
   "execution_count": 3,
   "metadata": {
    "id": "Rp2Lu2lUDlix"
   },
   "outputs": [],
   "source": [
    "# Parsing respose.txt by creating a BeautifulSoup object and assigning it to htlm_soup.\n",
    "time.sleep(5)\n",
    "html_soup = BeautifulSoup(response.text, 'html.parser')\n"
   ]
  },
  {
   "cell_type": "code",
   "execution_count": 4,
   "metadata": {
    "colab": {
     "base_uri": "https://localhost:8080/",
     "height": 49
    },
    "id": "csZKxTfg7vUO",
    "outputId": "e1c8202c-c2ec-4f26-b547-8ce12c29c3f0"
   },
   "outputs": [
    {
     "name": "stdout",
     "output_type": "stream",
     "text": [
      "<class 'bs4.element.ResultSet'>\n",
      "50\n"
     ]
    }
   ],
   "source": [
    "# Printing the total questions summary for each page (pagination set to 50 for viewing purpose)\n",
    "# The div tag has a class named question-summary that displays to us the entire information for a question posted.\n",
    "\n",
    "Questions_EachPage = html_soup.find_all('div', class_ = 'question-summary')\n",
    "print(type(Questions_EachPage))\n",
    "print(len(Questions_EachPage))"
   ]
  },
  {
   "cell_type": "markdown",
   "metadata": {
    "id": "nGJUB2qq9t8H"
   },
   "source": [
    "As we can see the question summary class count comes out to be 50, which is what we had expected depending on the pagination that we have set.\n",
    "\n",
    "However, we are only interested to scrape the Questions from this summary and not other things like time, comments, votes, answers,views etc. So, we will only deal with the tag `<h3>` and `<a>`."
   ]
  },
  {
   "cell_type": "markdown",
   "metadata": {
    "id": "YCZA2G7gAU4n"
   },
   "source": [
    "**Extracting data for a single question:**\n"
   ]
  },
  {
   "cell_type": "code",
   "execution_count": 5,
   "metadata": {
    "colab": {
     "base_uri": "https://localhost:8080/",
     "height": 794
    },
    "id": "xKaFXS2k8wil",
    "outputId": "f01df0d4-2b3c-4790-9f3d-9cc52b85970f"
   },
   "outputs": [
    {
     "name": "stdout",
     "output_type": "stream",
     "text": [
      "<div class=\"question-summary\" id=\"question-summary-1287284\">\n",
      "<div class=\"statscontainer\">\n",
      "<div class=\"stats\">\n",
      "<div class=\"vote\">\n",
      "<div class=\"votes\">\n",
      "<span class=\"vote-count-post\"><strong>0</strong></span>\n",
      "<div class=\"viewcount\">votes</div>\n",
      "</div>\n",
      "</div>\n",
      "<div class=\"status unanswered\">\n",
      "<strong>0</strong>answers\r\n",
      "            </div>\n",
      "</div>\n",
      "<div class=\"views\" title=\"10 views\">\r\n",
      "    10 views\r\n",
      "</div>\n",
      "</div>\n",
      "<div class=\"summary\">\n",
      "<h3><a class=\"question-hyperlink\" href=\"/questions/1287284/how-do-i-fix-my-display-resolution-problem-on-ubuntu-20-10-raspberry-pi\">How do I fix my display resolution problem on Ubuntu 20.10 Raspberry Pi?</a></h3>\n",
      "<div class=\"excerpt\">\r\n",
      "            My monitor has a resolution of 1368x768. In the Ubuntu settings page, there's no option for my display resolution nor 1366x768. All of the options have the top bar cut out or the dock. I used xrandr ...\r\n",
      "        </div>\n",
      "<div class=\"tags t-display t-display-resolution t-xrandr t-20û10\">\n",
      "<a class=\"post-tag\" href=\"/questions/tagged/display\" rel=\"tag\" title=\"show questions tagged 'display'\">display</a> <a class=\"post-tag\" href=\"/questions/tagged/display-resolution\" rel=\"tag\" title=\"show questions tagged 'display-resolution'\">display-resolution</a> <a class=\"post-tag\" href=\"/questions/tagged/xrandr\" rel=\"tag\" title=\"show questions tagged 'xrandr'\">xrandr</a> <a class=\"post-tag\" href=\"/questions/tagged/20.10\" rel=\"tag\" title=\"show questions tagged '20.10'\">20.10</a>\n",
      "</div>\n",
      "<div class=\"started fr\">\n",
      "<div class=\"user-info\">\n",
      "<div class=\"user-action-time\">\r\n",
      "        asked <span class=\"relativetime\" title=\"2020-10-27 03:34:20Z\">36 mins ago</span>\n",
      "</div>\n",
      "<div class=\"user-gravatar32\">\n",
      "<a href=\"/users/1141922/panfinz\"><div class=\"gravatar-wrapper-32\"><img alt=\"\" class=\"bar-sm\" height=\"32\" src=\"https://www.gravatar.com/avatar/26f562ead5548e3300870942d14a1ffa?s=32&amp;d=identicon&amp;r=PG&amp;f=1\" width=\"32\"/></div></a>\n",
      "</div>\n",
      "<div class=\"user-details\">\n",
      "<a href=\"/users/1141922/panfinz\">Panfinz</a>\n",
      "<div class=\"-flair\">\n",
      "<span class=\"reputation-score\" dir=\"ltr\" title=\"reputation score \">1</span><span aria-hidden=\"true\" title=\"2 bronze badges\"><span class=\"badge3\"></span><span class=\"badgecount\">2</span></span><span class=\"v-visible-sr\">2 bronze badges</span>\n",
      "</div>\n",
      "</div>\n",
      "</div>\n",
      "</div>\n",
      "</div>\n",
      "</div>\n"
     ]
    }
   ],
   "source": [
    "# Printing out the HTLM content of our first question.\n",
    "\n",
    "first_question = Questions_EachPage[0]\n",
    "print(first_question)"
   ]
  },
  {
   "cell_type": "markdown",
   "metadata": {
    "id": "wUz0MWk2AvEV"
   },
   "source": [
    "As we can see, the HTML content of one container is very long. To find out the HTML line specific to each data point, we’ll use DevTools once again."
   ]
  },
  {
   "cell_type": "code",
   "execution_count": 6,
   "metadata": {
    "id": "LjdXXFd6yQNd"
   },
   "outputs": [],
   "source": [
    "# Hitting the webpage to validate if there are any timeouts or connection reset warnings using try except()\n",
    "\n",
    "from urllib.request import urlopen \n",
    "from socket import timeout\n",
    "\n",
    "url = \"https://askubuntu.com/questions?tab=newest&pagesize=50\"\n",
    "try: \n",
    "    string = urlopen(url, timeout=5).read()\n",
    "except ConnectionResetError:\n",
    "    print(\"==> ConnectionResetError\")\n",
    "    pass\n",
    "except timeout: \n",
    "    print(\"==> Timeout\")\n",
    "    pass"
   ]
  },
  {
   "cell_type": "code",
   "execution_count": 7,
   "metadata": {
    "colab": {
     "base_uri": "https://localhost:8080/",
     "height": 32
    },
    "id": "jMf4HkpVSyu1",
    "outputId": "85e527b8-8b8c-4b91-d371-f95a9f6027d3"
   },
   "outputs": [
    {
     "name": "stdout",
     "output_type": "stream",
     "text": [
      "600\n"
     ]
    }
   ],
   "source": [
    "pages_list=[]                         # Empty list that will be appended with the page count\n",
    "\n",
    "pages_list.append(\"https://askubuntu.com/questions?tab=newest&pagesize=50\")\n",
    "\n",
    "for page in list(range(2, 601)):     # Looping over first 400 webpages\n",
    "\n",
    "  pages_list.append('https://askubuntu.com/questions?tab=newest&page='+str(page))\n",
    "  \n",
    "print(len(pages_list))"
   ]
  },
  {
   "cell_type": "code",
   "execution_count": 8,
   "metadata": {
    "id": "nvre0HruUdSm"
   },
   "outputs": [],
   "source": [
    "questions_list=[]                     # Creating an empty list of questions that will be appended with the question counts.\n",
    "\n",
    "# time.sleep(5)\n",
    "for x in pages_list:                  # Looping over all the pages in the page list\n",
    "  page = requests.get(x)\n",
    "  soup = BeautifulSoup(page.text, 'html.parser')\n",
    "\n",
    "  question_name = soup.find_all('h3')   # Finding the h3 tag that has details of the question\n",
    "  for question in question_name:\n",
    "    if question.find('a'):\n",
    "      questions_list.append(question.find('a').text)"
   ]
  },
  {
   "cell_type": "code",
   "execution_count": 9,
   "metadata": {
    "colab": {
     "base_uri": "https://localhost:8080/",
     "height": 69
    },
    "id": "0cqvbrbwWj-d",
    "outputId": "efb67a3f-4e33-423e-8eb8-a797db3b245f"
   },
   "outputs": [
    {
     "name": "stdout",
     "output_type": "stream",
     "text": [
      "31200\n",
      "['current community', 'more stack exchange communities', 'How do I fix my display resolution problem on Ubuntu 20.10 Raspberry Pi?', 'Text size in xfig not working in Ubuntu version 20.04', 'Not everything loads correctly when logging in', \"Please how do i fix this NO DEVICES FOUND: Press 'M' and '+' to add\", 'Ubuntu 20.04 never starts install', 'System upgrade to latest 20.04', 'USB formatting problem - unable due to error (udisks-error-quark, 0)', 'Certbot SSL certificate generation issue', 'Nvidia Graphics Card Disaster After Update to 20.04']\n"
     ]
    }
   ],
   "source": [
    "# Printing the length of the questions scraped and the top 10 questions.\n",
    "\n",
    "print(len(questions_list))\n",
    "print(questions_list[:11])"
   ]
  },
  {
   "cell_type": "code",
   "execution_count": 10,
   "metadata": {
    "id": "lvIUNIs-iBkh"
   },
   "outputs": [],
   "source": [
    "# To get the tags from the webpage\n",
    "\n",
    "def ListToString(string):\n",
    "  # initialize an empty string \n",
    "  string1 = \"\"\n",
    "    \n",
    "  # traverse in the string   \n",
    "  for element in string:  \n",
    "      string1 = string1 + element   \n",
    "     \n",
    "  return string1\n",
    "\n",
    "\n",
    "tag=[]\n",
    "\n",
    "for x in pages_list:\n",
    "  page = requests.get(x)\n",
    "  soup = BeautifulSoup(page.text, 'html.parser')\n",
    "\n",
    "  tags=[]\n",
    "\n",
    "  for div in soup.find_all('div', {\"class\": re.compile(\"^tags\")}):      \n",
    "    tags.append(div.get('class')[1:])\n",
    "\n",
    "\n",
    "\n",
    "  clean_tags=[]\n",
    "\n",
    "  for i in tags:\n",
    "    clean_tags.append(ListToString(i).replace('t-','|'))\n",
    "\n",
    "\n",
    "\n",
    "  for j in clean_tags:\n",
    "    tag.append(j[1:])"
   ]
  },
  {
   "cell_type": "code",
   "execution_count": 11,
   "metadata": {
    "colab": {
     "base_uri": "https://localhost:8080/",
     "height": 49
    },
    "id": "R2nUeY-_4VQJ",
    "outputId": "6b596ea6-096f-49fa-ba56-eafb75152217"
   },
   "outputs": [
    {
     "name": "stdout",
     "output_type": "stream",
     "text": [
      "30000\n",
      "['drivers|nvidia|cuda', 'usb|mount|sd-card|fsck|vmware-workstation', 'deja-dup', 'unity|gnome|keyboard|shortcu|keys', 'display|display-resolution|xrandr|20û10', '20û04', 'gnome-shell|desktop-environments', 'programming|minecraft|devices|preseed|bitcoin', 'system-installation', 'upgrade|system', 'partitioning|usb|format']\n"
     ]
    }
   ],
   "source": [
    "print(len(tag))\n",
    "print(tag[:11])"
   ]
  },
  {
   "cell_type": "code",
   "execution_count": 12,
   "metadata": {
    "colab": {
     "base_uri": "https://localhost:8080/",
     "height": 48
    },
    "id": "SaOZ_Zi-4jCZ",
    "outputId": "3edaf480-e2f8-4c88-82ee-8b6d042afe02"
   },
   "outputs": [
    {
     "data": {
      "text/html": [
       "<div>\n",
       "<style scoped>\n",
       "    .dataframe tbody tr th:only-of-type {\n",
       "        vertical-align: middle;\n",
       "    }\n",
       "\n",
       "    .dataframe tbody tr th {\n",
       "        vertical-align: top;\n",
       "    }\n",
       "\n",
       "    .dataframe thead th {\n",
       "        text-align: right;\n",
       "    }\n",
       "</style>\n",
       "<table border=\"1\" class=\"dataframe\">\n",
       "  <thead>\n",
       "    <tr style=\"text-align: right;\">\n",
       "      <th></th>\n",
       "      <th>Tags</th>\n",
       "      <th>Questions</th>\n",
       "    </tr>\n",
       "  </thead>\n",
       "  <tbody>\n",
       "    <tr>\n",
       "      <th>0</th>\n",
       "      <td>drivers|nvidia|cuda</td>\n",
       "      <td>current community</td>\n",
       "    </tr>\n",
       "    <tr>\n",
       "      <th>1</th>\n",
       "      <td>usb|mount|sd-card|fsck|vmware-workstation</td>\n",
       "      <td>more stack exchange communities</td>\n",
       "    </tr>\n",
       "    <tr>\n",
       "      <th>2</th>\n",
       "      <td>deja-dup</td>\n",
       "      <td>How do I fix my display resolution problem on ...</td>\n",
       "    </tr>\n",
       "    <tr>\n",
       "      <th>3</th>\n",
       "      <td>unity|gnome|keyboard|shortcu|keys</td>\n",
       "      <td>Text size in xfig not working in Ubuntu versio...</td>\n",
       "    </tr>\n",
       "    <tr>\n",
       "      <th>4</th>\n",
       "      <td>display|display-resolution|xrandr|20û10</td>\n",
       "      <td>Not everything loads correctly when logging in</td>\n",
       "    </tr>\n",
       "    <tr>\n",
       "      <th>5</th>\n",
       "      <td>20û04</td>\n",
       "      <td>Please how do i fix this NO DEVICES FOUND: Pre...</td>\n",
       "    </tr>\n",
       "    <tr>\n",
       "      <th>6</th>\n",
       "      <td>gnome-shell|desktop-environments</td>\n",
       "      <td>Ubuntu 20.04 never starts install</td>\n",
       "    </tr>\n",
       "    <tr>\n",
       "      <th>7</th>\n",
       "      <td>programming|minecraft|devices|preseed|bitcoin</td>\n",
       "      <td>System upgrade to latest 20.04</td>\n",
       "    </tr>\n",
       "    <tr>\n",
       "      <th>8</th>\n",
       "      <td>system-installation</td>\n",
       "      <td>USB formatting problem - unable due to error (...</td>\n",
       "    </tr>\n",
       "    <tr>\n",
       "      <th>9</th>\n",
       "      <td>upgrade|system</td>\n",
       "      <td>Certbot SSL certificate generation issue</td>\n",
       "    </tr>\n",
       "  </tbody>\n",
       "</table>\n",
       "</div>"
      ],
      "text/plain": [
       "                                            Tags  \\\n",
       "0                            drivers|nvidia|cuda   \n",
       "1      usb|mount|sd-card|fsck|vmware-workstation   \n",
       "2                                       deja-dup   \n",
       "3              unity|gnome|keyboard|shortcu|keys   \n",
       "4        display|display-resolution|xrandr|20û10   \n",
       "5                                          20û04   \n",
       "6               gnome-shell|desktop-environments   \n",
       "7  programming|minecraft|devices|preseed|bitcoin   \n",
       "8                            system-installation   \n",
       "9                                 upgrade|system   \n",
       "\n",
       "                                           Questions  \n",
       "0                                  current community  \n",
       "1                    more stack exchange communities  \n",
       "2  How do I fix my display resolution problem on ...  \n",
       "3  Text size in xfig not working in Ubuntu versio...  \n",
       "4     Not everything loads correctly when logging in  \n",
       "5  Please how do i fix this NO DEVICES FOUND: Pre...  \n",
       "6                  Ubuntu 20.04 never starts install  \n",
       "7                     System upgrade to latest 20.04  \n",
       "8  USB formatting problem - unable due to error (...  \n",
       "9           Certbot SSL certificate generation issue  "
      ]
     },
     "execution_count": 12,
     "metadata": {},
     "output_type": "execute_result"
    }
   ],
   "source": [
    "# Creating a dataframe for questions and tags\n",
    "\n",
    "ask_ubuntu_df = pd.DataFrame(list(zip(tag, questions_list)), columns =['Tags', 'Questions']) \n",
    "ask_ubuntu_df.head(10)"
   ]
  },
  {
   "cell_type": "code",
   "execution_count": 13,
   "metadata": {
    "id": "L2ilCjkI8NBL"
   },
   "outputs": [],
   "source": [
    "# Removing special characters, hyperlinks/URL's from the Questions.\n",
    "\n",
    "ask_ubuntu_df['Questions'] = ask_ubuntu_df['Questions'].replace('()','').replace(';','').replace(':','')\n",
    "ask_ubuntu_df['Tags'] = ask_ubuntu_df['Tags'].replace('()','').replace(';','').replace(':','')"
   ]
  },
  {
   "cell_type": "code",
   "execution_count": 14,
   "metadata": {
    "colab": {
     "base_uri": "https://localhost:8080/",
     "height": 48
    },
    "id": "HsdZxaKB4vk3",
    "outputId": "eba3766a-392d-4bfd-87fa-b6c7975a0372"
   },
   "outputs": [
    {
     "data": {
      "text/html": [
       "<div>\n",
       "<style scoped>\n",
       "    .dataframe tbody tr th:only-of-type {\n",
       "        vertical-align: middle;\n",
       "    }\n",
       "\n",
       "    .dataframe tbody tr th {\n",
       "        vertical-align: top;\n",
       "    }\n",
       "\n",
       "    .dataframe thead th {\n",
       "        text-align: right;\n",
       "    }\n",
       "</style>\n",
       "<table border=\"1\" class=\"dataframe\">\n",
       "  <thead>\n",
       "    <tr style=\"text-align: right;\">\n",
       "      <th></th>\n",
       "      <th>Tags</th>\n",
       "      <th>Questions</th>\n",
       "    </tr>\n",
       "  </thead>\n",
       "  <tbody>\n",
       "    <tr>\n",
       "      <th>0</th>\n",
       "      <td>__label__drivers __label__nvidia __label__cuda</td>\n",
       "      <td>current community</td>\n",
       "    </tr>\n",
       "    <tr>\n",
       "      <th>1</th>\n",
       "      <td>__label__usb __label__mount __label__sd-card _...</td>\n",
       "      <td>more stack exchange communities</td>\n",
       "    </tr>\n",
       "    <tr>\n",
       "      <th>2</th>\n",
       "      <td>__label__deja-dup</td>\n",
       "      <td>How do I fix my display resolution problem on ...</td>\n",
       "    </tr>\n",
       "    <tr>\n",
       "      <th>3</th>\n",
       "      <td>__label__unity __label__gnome __label__keyboar...</td>\n",
       "      <td>Text size in xfig not working in Ubuntu versio...</td>\n",
       "    </tr>\n",
       "    <tr>\n",
       "      <th>4</th>\n",
       "      <td>__label__display __label__display-resolution _...</td>\n",
       "      <td>Not everything loads correctly when logging in</td>\n",
       "    </tr>\n",
       "  </tbody>\n",
       "</table>\n",
       "</div>"
      ],
      "text/plain": [
       "                                                Tags  \\\n",
       "0     __label__drivers __label__nvidia __label__cuda   \n",
       "1  __label__usb __label__mount __label__sd-card _...   \n",
       "2                                  __label__deja-dup   \n",
       "3  __label__unity __label__gnome __label__keyboar...   \n",
       "4  __label__display __label__display-resolution _...   \n",
       "\n",
       "                                           Questions  \n",
       "0                                  current community  \n",
       "1                    more stack exchange communities  \n",
       "2  How do I fix my display resolution problem on ...  \n",
       "3  Text size in xfig not working in Ubuntu versio...  \n",
       "4     Not everything loads correctly when logging in  "
      ]
     },
     "execution_count": 14,
     "metadata": {},
     "output_type": "execute_result"
    }
   ],
   "source": [
    "ask_ubuntu_df[\"Tags\"] = [item.replace(\"|\", \" __label__\") for item in ask_ubuntu_df[\"Tags\"]]\n",
    "ask_ubuntu_df['Tags'] ='__label__' + ask_ubuntu_df['Tags'].astype(str)\n",
    "ask_ubuntu_df.head()"
   ]
  },
  {
   "cell_type": "code",
   "execution_count": 167,
   "metadata": {
    "id": "Pg7Y3ewZSWNT"
   },
   "outputs": [],
   "source": [
    "# Setting the current working directory\n",
    "\n",
    "relative_path = \"/Users/Agam/Project Files/\"\n",
    "os.chdir(relative_path)"
   ]
  },
  {
   "cell_type": "code",
   "execution_count": 168,
   "metadata": {
    "id": "4hKlfNc3Uov9"
   },
   "outputs": [
    {
     "name": "stdout",
     "output_type": "stream",
     "text": [
      "Cloning into 'fastText'...\n",
      "remote: Enumerating objects: 3854, done.\u001b[K\n",
      "remote: Total 3854 (delta 0), reused 0 (delta 0), pack-reused 3854\u001b[K\n",
      "Receiving objects: 100% (3854/3854), 8.22 MiB | 1.98 MiB/s, done.\n",
      "Resolving deltas: 100% (2418/2418), done.\n",
      "/Users/Agam/Project Files/fastText\n",
      "c++ -pthread -std=c++11 -march=native -O3 -funroll-loops -DNDEBUG -c src/args.cc\n",
      "c++ -pthread -std=c++11 -march=native -O3 -funroll-loops -DNDEBUG -c src/autotune.cc\n",
      "c++ -pthread -std=c++11 -march=native -O3 -funroll-loops -DNDEBUG -c src/matrix.cc\n",
      "c++ -pthread -std=c++11 -march=native -O3 -funroll-loops -DNDEBUG -c src/dictionary.cc\n",
      "c++ -pthread -std=c++11 -march=native -O3 -funroll-loops -DNDEBUG -c src/loss.cc\n",
      "c++ -pthread -std=c++11 -march=native -O3 -funroll-loops -DNDEBUG -c src/productquantizer.cc\n",
      "c++ -pthread -std=c++11 -march=native -O3 -funroll-loops -DNDEBUG -c src/densematrix.cc\n",
      "c++ -pthread -std=c++11 -march=native -O3 -funroll-loops -DNDEBUG -c src/quantmatrix.cc\n",
      "c++ -pthread -std=c++11 -march=native -O3 -funroll-loops -DNDEBUG -c src/vector.cc\n",
      "c++ -pthread -std=c++11 -march=native -O3 -funroll-loops -DNDEBUG -c src/model.cc\n",
      "c++ -pthread -std=c++11 -march=native -O3 -funroll-loops -DNDEBUG -c src/utils.cc\n",
      "c++ -pthread -std=c++11 -march=native -O3 -funroll-loops -DNDEBUG -c src/meter.cc\n",
      "c++ -pthread -std=c++11 -march=native -O3 -funroll-loops -DNDEBUG -c src/fasttext.cc\n",
      "c++ -pthread -std=c++11 -march=native -O3 -funroll-loops -DNDEBUG args.o autotune.o matrix.o dictionary.o loss.o productquantizer.o densematrix.o quantmatrix.o vector.o model.o utils.o meter.o fasttext.o src/main.cc -o fasttext\n",
      "cp: cannot overwrite directory ../fasttext with non-directory fasttext\n",
      "/Users/Agam/Project Files\n"
     ]
    }
   ],
   "source": [
    "# Cloning and Installing fastText\n",
    "!git clone https://github.com/facebookresearch/fastText.git\n",
    "%cd fastText\n",
    "!make\n",
    "!cp fasttext ../\n",
    "%cd .."
   ]
  },
  {
   "cell_type": "code",
   "execution_count": 169,
   "metadata": {},
   "outputs": [],
   "source": [
    "# Changing the respective path to the fastText directory after cloning fastText.\n",
    "\n",
    "relative_path = \"/Users/Agam/Project Files/fastText\"\n",
    "os.chdir(relative_path)"
   ]
  },
  {
   "cell_type": "code",
   "execution_count": 170,
   "metadata": {
    "id": "lVPcgZDDIJQG"
   },
   "outputs": [],
   "source": [
    "# Save the DataFrame as a .txt file which is required for feeding to fastText\n",
    "\n",
    "np.savetxt('ask_ubuntu.txt', ask_ubuntu_df.values, fmt='%s', delimiter='\\t')"
   ]
  },
  {
   "cell_type": "code",
   "execution_count": 171,
   "metadata": {
    "id": "Q-OTCZyk59aA"
   },
   "outputs": [
    {
     "name": "stdout",
     "output_type": "stream",
     "text": [
      "__label__server __label__games\tcurrent community\r\n",
      "__label__18û04 __label__virtualization __label__kvm\tmore stack exchange communities\r\n",
      "__label__20û04 __label__wacom __label__graphics-tablet\tUnable to start virtual domain in Ubuntu 18.04 LTS\r\n",
      "__label__cpu-load\tWacom gets stuck in Ubuntu 20.04\r\n",
      "__label__dual-boot __label__grub2\tHow to Monitor CPU and GPU usage for a specific amount of time\r\n",
      "__label__drivers __label__nvidia __label__cuda\tGRUB can't find Windows 10 after changing SATA cable entry\r\n",
      "__label__usb __label__mount __label__sd-card __label__fsck __label__vmware-workstation\tCUDA: driver version is upgrading properly, but Runtime API not upgrading\r\n",
      "__label__deja-dup\tfsck read-only file system on unmounted usb stick (SD Card Reader)\r\n",
      "__label__unity __label__gnome __label__keyboard __label__shortcu __label__keys\tUbuntu 20.04 locks up when restoring a backup\r\n",
      "__label__display __label__display-resolution __label__xrandr __label__20û10\tHow can I enable shortcut hint overlay screen in Ubuntu 18.04 and above?\r\n"
     ]
    }
   ],
   "source": [
    "!head \"/Users/Agam/Project Files/fastText/ask_ubuntu.txt\""
   ]
  },
  {
   "cell_type": "code",
   "execution_count": 172,
   "metadata": {
    "colab": {
     "base_uri": "https://localhost:8080/",
     "height": 65
    },
    "id": "lQ2AjpUlTcv5",
    "outputId": "83da0c50-c6a7-4fae-cb1b-7ecbbf4c8395"
   },
   "outputs": [
    {
     "name": "stdout",
     "output_type": "stream",
     "text": [
      "Number of records for training dataset are: 21000\n",
      "Number of records for validation dataset are: 4500\n",
      "Number of records for testing dataset are: 4500\n"
     ]
    }
   ],
   "source": [
    "# Splitting the data into training, validation and testing.\n",
    "\n",
    "train_data= round(len(ask_ubuntu_df)*0.70)\n",
    "validation_data = round(len(ask_ubuntu_df)*0.15)\n",
    "testing_data = round(len(ask_ubuntu_df)*0.15) \n",
    "\n",
    "print(\"Number of records for training dataset are:\", train_data)\n",
    "print(\"Number of records for validation dataset are:\", validation_data)\n",
    "print(\"Number of records for testing dataset are:\", testing_data)"
   ]
  },
  {
   "cell_type": "code",
   "execution_count": 173,
   "metadata": {},
   "outputs": [
    {
     "data": {
      "text/html": [
       "<div>\n",
       "<style scoped>\n",
       "    .dataframe tbody tr th:only-of-type {\n",
       "        vertical-align: middle;\n",
       "    }\n",
       "\n",
       "    .dataframe tbody tr th {\n",
       "        vertical-align: top;\n",
       "    }\n",
       "\n",
       "    .dataframe thead th {\n",
       "        text-align: right;\n",
       "    }\n",
       "</style>\n",
       "<table border=\"1\" class=\"dataframe\">\n",
       "  <thead>\n",
       "    <tr style=\"text-align: right;\">\n",
       "      <th></th>\n",
       "      <th>Tags</th>\n",
       "      <th>Questions</th>\n",
       "    </tr>\n",
       "  </thead>\n",
       "  <tbody>\n",
       "    <tr>\n",
       "      <th>0</th>\n",
       "      <td>__label__server __label__games</td>\n",
       "      <td>current community</td>\n",
       "    </tr>\n",
       "    <tr>\n",
       "      <th>1</th>\n",
       "      <td>__label__18û04 __label__virtualization __label...</td>\n",
       "      <td>more stack exchange communities</td>\n",
       "    </tr>\n",
       "    <tr>\n",
       "      <th>2</th>\n",
       "      <td>__label__20û04 __label__wacom __label__graphic...</td>\n",
       "      <td>Unable to start virtual domain in Ubuntu 18.04...</td>\n",
       "    </tr>\n",
       "    <tr>\n",
       "      <th>3</th>\n",
       "      <td>__label__cpu-load</td>\n",
       "      <td>Wacom gets stuck in Ubuntu 20.04</td>\n",
       "    </tr>\n",
       "    <tr>\n",
       "      <th>4</th>\n",
       "      <td>__label__dual-boot __label__grub2</td>\n",
       "      <td>How to Monitor CPU and GPU usage for a specifi...</td>\n",
       "    </tr>\n",
       "    <tr>\n",
       "      <th>5</th>\n",
       "      <td>__label__drivers __label__nvidia __label__cuda</td>\n",
       "      <td>GRUB can't find Windows 10 after changing SATA...</td>\n",
       "    </tr>\n",
       "    <tr>\n",
       "      <th>6</th>\n",
       "      <td>__label__usb __label__mount __label__sd-card _...</td>\n",
       "      <td>CUDA: driver version is upgrading properly, bu...</td>\n",
       "    </tr>\n",
       "    <tr>\n",
       "      <th>7</th>\n",
       "      <td>__label__deja-dup</td>\n",
       "      <td>fsck read-only file system on unmounted usb st...</td>\n",
       "    </tr>\n",
       "    <tr>\n",
       "      <th>8</th>\n",
       "      <td>__label__unity __label__gnome __label__keyboar...</td>\n",
       "      <td>Ubuntu 20.04 locks up when restoring a backup</td>\n",
       "    </tr>\n",
       "    <tr>\n",
       "      <th>9</th>\n",
       "      <td>__label__display __label__display-resolution _...</td>\n",
       "      <td>How can I enable shortcut hint overlay screen ...</td>\n",
       "    </tr>\n",
       "  </tbody>\n",
       "</table>\n",
       "</div>"
      ],
      "text/plain": [
       "                                                Tags  \\\n",
       "0                     __label__server __label__games   \n",
       "1  __label__18û04 __label__virtualization __label...   \n",
       "2  __label__20û04 __label__wacom __label__graphic...   \n",
       "3                                  __label__cpu-load   \n",
       "4                  __label__dual-boot __label__grub2   \n",
       "5     __label__drivers __label__nvidia __label__cuda   \n",
       "6  __label__usb __label__mount __label__sd-card _...   \n",
       "7                                  __label__deja-dup   \n",
       "8  __label__unity __label__gnome __label__keyboar...   \n",
       "9  __label__display __label__display-resolution _...   \n",
       "\n",
       "                                           Questions  \n",
       "0                                  current community  \n",
       "1                    more stack exchange communities  \n",
       "2  Unable to start virtual domain in Ubuntu 18.04...  \n",
       "3                   Wacom gets stuck in Ubuntu 20.04  \n",
       "4  How to Monitor CPU and GPU usage for a specifi...  \n",
       "5  GRUB can't find Windows 10 after changing SATA...  \n",
       "6  CUDA: driver version is upgrading properly, bu...  \n",
       "7  fsck read-only file system on unmounted usb st...  \n",
       "8      Ubuntu 20.04 locks up when restoring a backup  \n",
       "9  How can I enable shortcut hint overlay screen ...  "
      ]
     },
     "execution_count": 173,
     "metadata": {},
     "output_type": "execute_result"
    }
   ],
   "source": [
    "ask_ubuntu_df.head(10)"
   ]
  },
  {
   "cell_type": "code",
   "execution_count": 177,
   "metadata": {
    "colab": {
     "base_uri": "https://localhost:8080/",
     "height": 364
    },
    "id": "PIGLfqTd8vFL",
    "outputId": "71c9c7da-f953-4611-c811-dd44937c2a00"
   },
   "outputs": [],
   "source": [
    "training_data =pd.read_table(\"/Users/Agam/Project Files/fastText/ask_ubuntu.txt\", nrows=train_data,header=None)\n",
    "valid_data =pd.read_table(\"/Users/Agam/Project Files/fastText/ask_ubuntu.txt\",skiprows=train_data,nrows=validation_data,header=None)\n",
    "#test_data =pd.read_csv(\"/Users/Agam/Project Files/ask_ubuntu.txt\",skiprows=(test_data+validation_data),nrows=testing_data,header=None)"
   ]
  },
  {
   "cell_type": "code",
   "execution_count": 178,
   "metadata": {},
   "outputs": [],
   "source": [
    "# Saving the training and validation files.\n",
    "\n",
    "np.savetxt('/Users/Agam/Project Files/fastText/ask_ubuntu.train', training_data.values, fmt='%s', delimiter='\\t')\n",
    "np.savetxt('/Users/Agam/Project Files/fastText/ask_ubuntu.val', valid_data.values, fmt='%s', delimiter='\\t')\n",
    "# np.savetxt('/Users/Agam/Project Files/ask_ubuntu.test', testing_data.values, fmt='%s', delimiter='\\t')"
   ]
  },
  {
   "cell_type": "code",
   "execution_count": 179,
   "metadata": {},
   "outputs": [
    {
     "name": "stdout",
     "output_type": "stream",
     "text": [
      "Read 0M words\n",
      "Number of words:  23726\n",
      "Number of labels: 2122\n",
      "Progress: 100.0% words/sec/thread:    8803 lr:  0.000000 avg.loss: 10.292150 ETA:   0h 0m 0s10.343347 ETA:   0h 0m 1s\n"
     ]
    }
   ],
   "source": [
    "!./fasttext  supervised -input \"/Users/Agam/Project Files/fastText/ask_ubuntu.train\" -output ./model_ask_ubuntu"
   ]
  },
  {
   "cell_type": "code",
   "execution_count": 181,
   "metadata": {
    "id": "3_1EW3oAAJe8"
   },
   "outputs": [
    {
     "name": "stdout",
     "output_type": "stream",
     "text": [
      "N\t4494\r\n",
      "P@1\t0.276\r\n",
      "R@1\t0.0906\r\n"
     ]
    }
   ],
   "source": [
    "# Validating model accuracy on the validation set.\n",
    "\n",
    "!./fasttext test ./model_ask_ubuntu.bin \"/Users/Agam/Project Files/fastText/ask_ubuntu.val\""
   ]
  },
  {
   "cell_type": "markdown",
   "metadata": {},
   "source": [
    "**As we can see from the precision score of our fastText Model, that when we scraped data from around 600 webpages, the precision increased significantly from 9% to around 28%. For further analysis, we will consider applying epochs, learning rate, word n grams and hierarchial softmax and will validate the accuracy of the model on validation data.**"
   ]
  }
 ],
 "metadata": {
  "colab": {
   "name": "askubuntu_stackexchange_2.ipynb",
   "provenance": []
  },
  "kernelspec": {
   "display_name": "Python 3",
   "language": "python",
   "name": "python3"
  },
  "language_info": {
   "codemirror_mode": {
    "name": "ipython",
    "version": 3
   },
   "file_extension": ".py",
   "mimetype": "text/x-python",
   "name": "python",
   "nbconvert_exporter": "python",
   "pygments_lexer": "ipython3",
   "version": "3.7.6"
  },
  "latex_envs": {
   "LaTeX_envs_menu_present": true,
   "autoclose": false,
   "autocomplete": true,
   "bibliofile": "biblio.bib",
   "cite_by": "apalike",
   "current_citInitial": 1,
   "eqLabelWithNumbers": true,
   "eqNumInitial": 1,
   "hotkeys": {
    "equation": "Ctrl-E",
    "itemize": "Ctrl-I"
   },
   "labels_anchors": false,
   "latex_user_defs": false,
   "report_style_numbering": false,
   "user_envs_cfg": false
  }
 },
 "nbformat": 4,
 "nbformat_minor": 1
}
