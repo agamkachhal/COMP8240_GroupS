{
  "nbformat": 4,
  "nbformat_minor": 0,
  "metadata": {
    "colab": {
      "name": "askubuntu_stackexchange_2.ipynb",
      "provenance": []
    },
    "kernelspec": {
      "name": "python3",
      "display_name": "Python 3"
    }
  },
  "cells": [
    {
      "cell_type": "markdown",
      "metadata": {
        "id": "L7RsDx3nsCwg"
      },
      "source": [
        "**Stack Exchange - Data Scraping for Questions and Tags**"
      ]
    },
    {
      "cell_type": "markdown",
      "metadata": {
        "id": "E25rdUdmsECM"
      },
      "source": [
        "We want to scrape the distributions of numbers of Questions & Tags for the webpage [Stack Echange - ask ubuntu](https://askubuntu.com/) to see if we find anything interesting. To do this, we’ll first scrape data related to Questions and Tags from Stack Exchange webpage for all the respective pages.\n"
      ]
    },
    {
      "cell_type": "markdown",
      "metadata": {
        "id": "ZspnNaeGsKG8"
      },
      "source": [
        "**Working out which pages to scrape**"
      ]
    },
    {
      "cell_type": "markdown",
      "metadata": {
        "id": "ry3jUx50sMA-"
      },
      "source": [
        "  Once we've defined our goal, we then need to identify an efficient set of pages to scrape. In order to scrape data from the respective web pages, we use the `request` library. A request is what happens when we access a web page. We 'request' the content of a page from the server."
      ]
    },
    {
      "cell_type": "code",
      "metadata": {
        "id": "DVS4dXLTwBeb"
      },
      "source": [
        "import pandas as pd\n",
        "import numpy as np\n",
        "import os\n",
        "import time\n",
        "import requests\n",
        "from requests import get\n",
        "import regex as re\n",
        "from requests import get\n",
        "from bs4 import BeautifulSoup"
      ],
      "execution_count": 1,
      "outputs": []
    },
    {
      "cell_type": "code",
      "metadata": {
        "id": "A3b5CtLsuKHg",
        "outputId": "904c01f4-bf8d-4749-c31d-b53974e66e58",
        "colab": {
          "base_uri": "https://localhost:8080/",
          "height": 214
        }
      },
      "source": [
        "url = 'https://askubuntu.com/questions'\n",
        "time.sleep(5)\n",
        "# Getting the response from the source URL.\n",
        "response = get(url)\n",
        "print(response.text[:500])"
      ],
      "execution_count": 2,
      "outputs": [
        {
          "output_type": "stream",
          "text": [
            "<!DOCTYPE html>\r\n",
            "\r\n",
            "\r\n",
            "    <html class=\"html__responsive\">\r\n",
            "\r\n",
            "    <head>\r\n",
            "\r\n",
            "        <title>Newest Questions - Ask Ubuntu</title>\r\n",
            "        <link rel=\"shortcut icon\" href=\"https://cdn.sstatic.net/Sites/askubuntu/Img/favicon.ico?v=928dfb7c1990\">\r\n",
            "        <link rel=\"apple-touch-icon\" href=\"https://cdn.sstatic.net/Sites/askubuntu/Img/apple-touch-icon.png?v=e16e1315edd6\">\r\n",
            "        <link rel=\"image_src\" href=\"https://cdn.sstatic.net/Sites/askubuntu/Img/apple-touch-icon.png?v=e16e1315edd6\"> \r\n",
            "        <lin\n"
          ],
          "name": "stdout"
        }
      ]
    },
    {
      "cell_type": "markdown",
      "metadata": {
        "id": "7Zp771DszNMF"
      },
      "source": [
        "As we can see from the first line of response.text, the server sent us an HTML document. This document describes the overall structure of that web page, along with its specific content (which is what makes that particular page unique)."
      ]
    },
    {
      "cell_type": "code",
      "metadata": {
        "id": "Rp2Lu2lUDlix"
      },
      "source": [
        "# Parsing respose.txt by creating a BeautifulSoup object and assigning it to htlm_soup.\n",
        "time.sleep(5)\n",
        "html_soup = BeautifulSoup(response.text, 'html.parser')\n"
      ],
      "execution_count": 3,
      "outputs": []
    },
    {
      "cell_type": "code",
      "metadata": {
        "id": "csZKxTfg7vUO",
        "outputId": "f0c9c030-b998-4ef3-bc04-37e6a53747d3",
        "colab": {
          "base_uri": "https://localhost:8080/",
          "height": 49
        }
      },
      "source": [
        "# Printing the total questions summary for each page (pagination set to 50 for viewing purpose)\n",
        "# The div tag has a class named question-summary that displays to us the entire information for a question posted.\n",
        "\n",
        "Questions_EachPage = html_soup.find_all('div', class_ = 'question-summary')\n",
        "print(type(Questions_EachPage))\n",
        "print(len(Questions_EachPage))"
      ],
      "execution_count": 4,
      "outputs": [
        {
          "output_type": "stream",
          "text": [
            "<class 'bs4.element.ResultSet'>\n",
            "50\n"
          ],
          "name": "stdout"
        }
      ]
    },
    {
      "cell_type": "markdown",
      "metadata": {
        "id": "nGJUB2qq9t8H"
      },
      "source": [
        "As we can see the question summary class count comes out to be 50, which is what we had expected depending on the pagination that we have set.\n",
        "\n",
        "However, we are only interested to scrape the Questions from this summary and not other things like time, comments, votes, answers,views etc. So, we will only deal with the tag `<h3>` and `<a>`."
      ]
    },
    {
      "cell_type": "markdown",
      "metadata": {
        "id": "YCZA2G7gAU4n"
      },
      "source": [
        "**Extracting data for a single question:**\n"
      ]
    },
    {
      "cell_type": "code",
      "metadata": {
        "id": "xKaFXS2k8wil",
        "outputId": "5f3581e5-ab0c-441f-9260-17c7f4362814",
        "colab": {
          "base_uri": "https://localhost:8080/",
          "height": 744
        }
      },
      "source": [
        "# Printing out the HTLM content of our first question.\n",
        "\n",
        "first_question = Questions_EachPage[0]\n",
        "print(first_question)"
      ],
      "execution_count": 5,
      "outputs": [
        {
          "output_type": "stream",
          "text": [
            "<div class=\"question-summary\" id=\"question-summary-1286792\">\n",
            "<div class=\"statscontainer\">\n",
            "<div class=\"stats\">\n",
            "<div class=\"vote\">\n",
            "<div class=\"votes\">\n",
            "<span class=\"vote-count-post \"><strong>0</strong></span>\n",
            "<div class=\"viewcount\">votes</div>\n",
            "</div>\n",
            "</div>\n",
            "<div class=\"status unanswered\">\n",
            "<strong>0</strong>answers\r\n",
            "            </div>\n",
            "</div>\n",
            "<div class=\"views \" title=\"6 views\">\r\n",
            "    6 views\r\n",
            "</div>\n",
            "</div>\n",
            "<div class=\"summary\">\n",
            "<h3><a class=\"question-hyperlink\" href=\"/questions/1286792/removing-all-ubuntu-packages\">REMOVING ALL UBUNTU PACKAGES</a></h3>\n",
            "<div class=\"excerpt\">\r\n",
            "            Help. I have Ubuntu software on a bootable usb, due some issues I desperately need to remove all packages installed and make my Ubuntu 20.04 brand new. The software is so messed up  I just don't want ...\r\n",
            "        </div>\n",
            "<div class=\"tags t-20û04\">\n",
            "<a class=\"post-tag\" href=\"/questions/tagged/20.04\" rel=\"tag\" title=\"show questions tagged '20.04'\">20.04</a>\n",
            "</div>\n",
            "<div class=\"started fr\">\n",
            "<div class=\"user-info \">\n",
            "<div class=\"user-action-time\">\r\n",
            "        asked <span class=\"relativetime\" title=\"2020-10-25 13:03:44Z\">2 mins ago</span>\n",
            "</div>\n",
            "<div class=\"user-gravatar32\">\n",
            "<a href=\"/users/1141373/c-o-d-e-b-o-y-254\"><div class=\"gravatar-wrapper-32\"><img alt=\"\" class=\"bar-sm\" height=\"32\" src=\"https://lh3.googleusercontent.com/a-/AOh14GjN795vxnrkULTG946payYdUv6Cbf_y_pbTqRUE=k-s32\" width=\"32\"/></div></a>\n",
            "</div>\n",
            "<div class=\"user-details\">\n",
            "<a href=\"/users/1141373/c-o-d-e-b-o-y-254\">c o d e b o y 254</a>\n",
            "<div class=\"-flair\">\n",
            "<span class=\"reputation-score\" dir=\"ltr\" title=\"reputation score \">1</span>\n",
            "</div>\n",
            "</div>\n",
            "</div>\n",
            "</div>\n",
            "</div>\n",
            "</div>\n"
          ],
          "name": "stdout"
        }
      ]
    },
    {
      "cell_type": "markdown",
      "metadata": {
        "id": "wUz0MWk2AvEV"
      },
      "source": [
        "As we can see, the HTML content of one container is very long. To find out the HTML line specific to each data point, we’ll use DevTools once again."
      ]
    },
    {
      "cell_type": "code",
      "metadata": {
        "id": "LjdXXFd6yQNd"
      },
      "source": [
        "# Hitting the webpage to validate if there are any timeouts or connection reset warnings using try except()\n",
        "\n",
        "from urllib.request import urlopen \n",
        "from socket import timeout\n",
        "\n",
        "url = \"https://askubuntu.com/questions?tab=newest&pagesize=50\"\n",
        "try: \n",
        "    string = urlopen(url, timeout=5).read()\n",
        "except ConnectionResetError:\n",
        "    print(\"==> ConnectionResetError\")\n",
        "    pass\n",
        "except timeout: \n",
        "    print(\"==> Timeout\")\n",
        "    pass"
      ],
      "execution_count": 6,
      "outputs": []
    },
    {
      "cell_type": "code",
      "metadata": {
        "id": "jMf4HkpVSyu1",
        "outputId": "a66f08a9-1fca-4209-e590-b7df6f138b60",
        "colab": {
          "base_uri": "https://localhost:8080/",
          "height": 32
        }
      },
      "source": [
        "pages_list=[]                         # Empty list that will be appended with the page count\n",
        "\n",
        "pages_list.append(\"https://askubuntu.com/questions?tab=newest&pagesize=50\")\n",
        "\n",
        "for page in list(range(2, 401)):     # Looping over first 400 webpages\n",
        "\n",
        "  pages_list.append('https://askubuntu.com/questions?tab=newest&page='+str(page))\n",
        "  \n",
        "print(len(pages_list))"
      ],
      "execution_count": 7,
      "outputs": [
        {
          "output_type": "stream",
          "text": [
            "400\n"
          ],
          "name": "stdout"
        }
      ]
    },
    {
      "cell_type": "code",
      "metadata": {
        "id": "nvre0HruUdSm"
      },
      "source": [
        "questions_list=[]                     # Creating an empty list of questions that will be appended with the question counts.\n",
        "\n",
        "# time.sleep(5)\n",
        "for x in pages_list:                  # Looping over all the pages in the page list\n",
        "  page = requests.get(x)\n",
        "  soup = BeautifulSoup(page.text, 'html.parser')\n",
        "\n",
        "  question_name = soup.find_all('h3')   # Finding the h3 tag that has details of the question\n",
        "  for question in question_name:\n",
        "    if question.find('a'):\n",
        "      questions_list.append(question.find('a').text)"
      ],
      "execution_count": 8,
      "outputs": []
    },
    {
      "cell_type": "code",
      "metadata": {
        "id": "0cqvbrbwWj-d",
        "outputId": "427e5a1d-b209-40bd-9d89-ac11240b0f09",
        "colab": {
          "base_uri": "https://localhost:8080/",
          "height": 69
        }
      },
      "source": [
        "# Printing the length of the questions scraped and the top 10 questions.\n",
        "print(len(questions_list))\n",
        "print(questions_list[:11])"
      ],
      "execution_count": 9,
      "outputs": [
        {
          "output_type": "stream",
          "text": [
            "20800\n",
            "['current community', 'more stack exchange communities', 'REMOVING ALL UBUNTU PACKAGES', 'What is the dependency of tshark', 'When I make upgrade will version increase', 'Problem with installing package (python-qt4)', \"Screenpad (Asus Zenbook's screen touchpad) gestures on Ubuntu 20.10\", \"Can’t open /var/../freshclam.log error when updating ClamAV's virus database\", 'Dell Inspiron 5491 Fingerprint not working on Ubuntu 20.04', 'Atom text editor gone after update to 20.10, error: Depends: gvfs-bin but it is not installable', 'socket error when try to start mysql']\n"
          ],
          "name": "stdout"
        }
      ]
    },
    {
      "cell_type": "code",
      "metadata": {
        "id": "lvIUNIs-iBkh"
      },
      "source": [
        "# To get the tags from the webpage\n",
        "\n",
        "def ListToString(string):\n",
        "  # initialize an empty string \n",
        "  string1 = \"\"\n",
        "    \n",
        "  # traverse in the string   \n",
        "  for element in string:  \n",
        "      string1 = string1 + element   \n",
        "     \n",
        "  return string1\n",
        "\n",
        "\n",
        "tag=[]\n",
        "\n",
        "for x in pages_list:\n",
        "  page = requests.get(x)\n",
        "  soup = BeautifulSoup(page.text, 'html.parser')\n",
        "\n",
        "  tags=[]\n",
        "\n",
        "  for div in soup.find_all('div', {\"class\": re.compile(\"^tags\")}):      \n",
        "    tags.append(div.get('class')[1:])\n",
        "\n",
        "\n",
        "\n",
        "  clean_tags=[]\n",
        "\n",
        "  for i in tags:\n",
        "    clean_tags.append(ListToString(i).replace('t-','|'))\n",
        "\n",
        "\n",
        "\n",
        "  for j in clean_tags:\n",
        "    tag.append(j[1:])"
      ],
      "execution_count": 10,
      "outputs": []
    },
    {
      "cell_type": "code",
      "metadata": {
        "id": "R2nUeY-_4VQJ",
        "outputId": "dc36fdc0-0130-4cfa-c762-30fe955225f5",
        "colab": {
          "base_uri": "https://localhost:8080/",
          "height": 69
        }
      },
      "source": [
        "print(len(tag))\n",
        "print(tag[:11])"
      ],
      "execution_count": 13,
      "outputs": [
        {
          "output_type": "stream",
          "text": [
            "12050\n",
            "['20û04', 'dependencies|uninstall', 'lubuntu', 'python', 'touchpad|asus|synaptics|20û10', 'clamav|clamtk', '20û04', 'apt|atom', 'mysql', 'networking', 'system-installation|20û04|windows-10|secure-boot']\n"
          ],
          "name": "stdout"
        }
      ]
    },
    {
      "cell_type": "code",
      "metadata": {
        "id": "SaOZ_Zi-4jCZ",
        "outputId": "01fb25cc-3d96-4363-9cd5-a5dc14b107f5",
        "colab": {
          "base_uri": "https://localhost:8080/",
          "height": 352
        }
      },
      "source": [
        "# Creating a dataframe for questions and tags\n",
        "\n",
        "ask_ubuntu_df = pd.DataFrame(list(zip(tag, questions_list)), columns =['Tags', 'Questions']) \n",
        "ask_ubuntu_df.head(10)"
      ],
      "execution_count": 15,
      "outputs": [
        {
          "output_type": "execute_result",
          "data": {
            "text/html": [
              "<div>\n",
              "<style scoped>\n",
              "    .dataframe tbody tr th:only-of-type {\n",
              "        vertical-align: middle;\n",
              "    }\n",
              "\n",
              "    .dataframe tbody tr th {\n",
              "        vertical-align: top;\n",
              "    }\n",
              "\n",
              "    .dataframe thead th {\n",
              "        text-align: right;\n",
              "    }\n",
              "</style>\n",
              "<table border=\"1\" class=\"dataframe\">\n",
              "  <thead>\n",
              "    <tr style=\"text-align: right;\">\n",
              "      <th></th>\n",
              "      <th>Tags</th>\n",
              "      <th>Questions</th>\n",
              "    </tr>\n",
              "  </thead>\n",
              "  <tbody>\n",
              "    <tr>\n",
              "      <th>0</th>\n",
              "      <td>20û04</td>\n",
              "      <td>current community</td>\n",
              "    </tr>\n",
              "    <tr>\n",
              "      <th>1</th>\n",
              "      <td>dependencies|uninstall</td>\n",
              "      <td>more stack exchange communities</td>\n",
              "    </tr>\n",
              "    <tr>\n",
              "      <th>2</th>\n",
              "      <td>lubuntu</td>\n",
              "      <td>REMOVING ALL UBUNTU PACKAGES</td>\n",
              "    </tr>\n",
              "    <tr>\n",
              "      <th>3</th>\n",
              "      <td>python</td>\n",
              "      <td>What is the dependency of tshark</td>\n",
              "    </tr>\n",
              "    <tr>\n",
              "      <th>4</th>\n",
              "      <td>touchpad|asus|synaptics|20û10</td>\n",
              "      <td>When I make upgrade will version increase</td>\n",
              "    </tr>\n",
              "    <tr>\n",
              "      <th>5</th>\n",
              "      <td>clamav|clamtk</td>\n",
              "      <td>Problem with installing package (python-qt4)</td>\n",
              "    </tr>\n",
              "    <tr>\n",
              "      <th>6</th>\n",
              "      <td>20û04</td>\n",
              "      <td>Screenpad (Asus Zenbook's screen touchpad) ges...</td>\n",
              "    </tr>\n",
              "    <tr>\n",
              "      <th>7</th>\n",
              "      <td>apt|atom</td>\n",
              "      <td>Can’t open /var/../freshclam.log error when up...</td>\n",
              "    </tr>\n",
              "    <tr>\n",
              "      <th>8</th>\n",
              "      <td>mysql</td>\n",
              "      <td>Dell Inspiron 5491 Fingerprint not working on ...</td>\n",
              "    </tr>\n",
              "    <tr>\n",
              "      <th>9</th>\n",
              "      <td>networking</td>\n",
              "      <td>Atom text editor gone after update to 20.10, e...</td>\n",
              "    </tr>\n",
              "  </tbody>\n",
              "</table>\n",
              "</div>"
            ],
            "text/plain": [
              "                            Tags                                          Questions\n",
              "0                          20û04                                  current community\n",
              "1         dependencies|uninstall                    more stack exchange communities\n",
              "2                        lubuntu                       REMOVING ALL UBUNTU PACKAGES\n",
              "3                         python                   What is the dependency of tshark\n",
              "4  touchpad|asus|synaptics|20û10          When I make upgrade will version increase\n",
              "5                  clamav|clamtk       Problem with installing package (python-qt4)\n",
              "6                          20û04  Screenpad (Asus Zenbook's screen touchpad) ges...\n",
              "7                       apt|atom  Can’t open /var/../freshclam.log error when up...\n",
              "8                          mysql  Dell Inspiron 5491 Fingerprint not working on ...\n",
              "9                     networking  Atom text editor gone after update to 20.10, e..."
            ]
          },
          "metadata": {
            "tags": []
          },
          "execution_count": 15
        }
      ]
    },
    {
      "cell_type": "code",
      "metadata": {
        "id": "L2ilCjkI8NBL"
      },
      "source": [
        "# Removing special characters, hyperlinks/URL's from the Questions.\n",
        "\n",
        "ask_ubuntu_df['Questions'] = ask_ubuntu_df['Questions'].replace('()','').replace(';','').replace(':','')\n",
        "ask_ubuntu_df['Tags'] = ask_ubuntu_df['Tags'].replace('()','').replace(';','').replace(':','')"
      ],
      "execution_count": 16,
      "outputs": []
    },
    {
      "cell_type": "code",
      "metadata": {
        "id": "HsdZxaKB4vk3",
        "outputId": "00cd5df7-b804-4a11-d353-7b366f7b6e09",
        "colab": {
          "base_uri": "https://localhost:8080/",
          "height": 201
        }
      },
      "source": [
        "ask_ubuntu_df[\"Tags\"] = [item.replace(\"|\", \" __label__\") for item in ask_ubuntu_df[\"Tags\"]]\n",
        "ask_ubuntu_df['Tags'] ='__label__' + ask_ubuntu_df['Tags'].astype(str)\n",
        "ask_ubuntu_df.head()"
      ],
      "execution_count": 22,
      "outputs": [
        {
          "output_type": "execute_result",
          "data": {
            "text/html": [
              "<div>\n",
              "<style scoped>\n",
              "    .dataframe tbody tr th:only-of-type {\n",
              "        vertical-align: middle;\n",
              "    }\n",
              "\n",
              "    .dataframe tbody tr th {\n",
              "        vertical-align: top;\n",
              "    }\n",
              "\n",
              "    .dataframe thead th {\n",
              "        text-align: right;\n",
              "    }\n",
              "</style>\n",
              "<table border=\"1\" class=\"dataframe\">\n",
              "  <thead>\n",
              "    <tr style=\"text-align: right;\">\n",
              "      <th></th>\n",
              "      <th>Tags</th>\n",
              "      <th>Questions</th>\n",
              "    </tr>\n",
              "  </thead>\n",
              "  <tbody>\n",
              "    <tr>\n",
              "      <th>0</th>\n",
              "      <td>__label____label____label__20û04</td>\n",
              "      <td>current community</td>\n",
              "    </tr>\n",
              "    <tr>\n",
              "      <th>1</th>\n",
              "      <td>__label____label____label__dependencies __labe...</td>\n",
              "      <td>more stack exchange communities</td>\n",
              "    </tr>\n",
              "    <tr>\n",
              "      <th>2</th>\n",
              "      <td>__label____label____label__lubuntu</td>\n",
              "      <td>REMOVING ALL UBUNTU PACKAGES</td>\n",
              "    </tr>\n",
              "    <tr>\n",
              "      <th>3</th>\n",
              "      <td>__label____label____label__python</td>\n",
              "      <td>What is the dependency of tshark</td>\n",
              "    </tr>\n",
              "    <tr>\n",
              "      <th>4</th>\n",
              "      <td>__label____label____label__touchpad __label__a...</td>\n",
              "      <td>When I make upgrade will version increase</td>\n",
              "    </tr>\n",
              "  </tbody>\n",
              "</table>\n",
              "</div>"
            ],
            "text/plain": [
              "                                                Tags                                  Questions\n",
              "0                   __label____label____label__20û04                          current community\n",
              "1  __label____label____label__dependencies __labe...            more stack exchange communities\n",
              "2                 __label____label____label__lubuntu               REMOVING ALL UBUNTU PACKAGES\n",
              "3                  __label____label____label__python           What is the dependency of tshark\n",
              "4  __label____label____label__touchpad __label__a...  When I make upgrade will version increase"
            ]
          },
          "metadata": {
            "tags": []
          },
          "execution_count": 22
        }
      ]
    },
    {
      "cell_type": "code",
      "metadata": {
        "id": "Pg7Y3ewZSWNT"
      },
      "source": [
        "# Setting the current working directory\n",
        "\n",
        "os.chdir(\"/content/\")"
      ],
      "execution_count": 23,
      "outputs": []
    },
    {
      "cell_type": "code",
      "metadata": {
        "id": "lVPcgZDDIJQG"
      },
      "source": [
        "    # Save the DataFrame as a .txt file which is required for feeding to fastText\n",
        "\n",
        "np.savetxt(r'/content/ask_ubuntu.txt', ask_ubuntu_df.values, fmt='%s', delimiter='\\t')"
      ],
      "execution_count": 27,
      "outputs": []
    },
    {
      "cell_type": "code",
      "metadata": {
        "id": "Q-OTCZyk59aA",
        "outputId": "60f3e3d3-01cb-43a0-d99b-7e6633e158b2",
        "colab": {
          "base_uri": "https://localhost:8080/",
          "height": 181
        }
      },
      "source": [
        "!head \"/content/ask_ubuntu.txt\""
      ],
      "execution_count": 29,
      "outputs": [
        {
          "output_type": "stream",
          "text": [
            "__label____label____label__20û04\tcurrent community\n",
            "__label____label____label__dependencies __label__uninstall\tmore stack exchange communities\n",
            "__label____label____label__lubuntu\tREMOVING ALL UBUNTU PACKAGES\n",
            "__label____label____label__python\tWhat is the dependency of tshark\n",
            "__label____label____label__touchpad __label__asus __label__synaptics __label__20û10\tWhen I make upgrade will version increase\n",
            "__label____label____label__clamav __label__clamtk\tProblem with installing package (python-qt4)\n",
            "__label____label____label__20û04\tScreenpad (Asus Zenbook's screen touchpad) gestures on Ubuntu 20.10\n",
            "__label____label____label__apt __label__atom\tCan’t open /var/../freshclam.log error when updating ClamAV's virus database\n",
            "__label____label____label__mysql\tDell Inspiron 5491 Fingerprint not working on Ubuntu 20.04\n",
            "__label____label____label__networking\tAtom text editor gone after update to 20.10, error: Depends: gvfs-bin but it is not installable\n"
          ],
          "name": "stdout"
        }
      ]
    },
    {
      "cell_type": "code",
      "metadata": {
        "id": "lQ2AjpUlTcv5",
        "outputId": "ca60d764-1f58-40a2-ade0-f1f86f7f37a1",
        "colab": {
          "base_uri": "https://localhost:8080/",
          "height": 65
        }
      },
      "source": [
        "# Splitting the data into training, validation and testing.\n",
        "\n",
        "train_data= round(len(ask_ubuntu_df)*0.70)\n",
        "validation_data = round(len(ask_ubuntu_df)*0.15)\n",
        "testing_data = round(len(ask_ubuntu_df)*0.15) \n",
        "\n",
        "print(\"Number of records for training dataset are:\", train_data)\n",
        "print(\"Number of records for validation dataset are:\", validation_data)\n",
        "print(\"Number of records for testing dataset are:\", testing_data)\n"
      ],
      "execution_count": 56,
      "outputs": [
        {
          "output_type": "stream",
          "text": [
            "Number of records for training dataset are: 8435\n",
            "Number of records for validation dataset are: 1808\n",
            "Number of records for testing dataset are: 1808\n"
          ],
          "name": "stdout"
        }
      ]
    },
    {
      "cell_type": "code",
      "metadata": {
        "id": "PIGLfqTd8vFL"
      },
      "source": [
        "training_data =pd.read_table(\"/content/ask_ubuntu.txt\", nrows=train_data,header=None)\n",
        "valid_data =pd.read_table(\"/content/ask_ubuntu.txt\",skiprows=train_data,nrows=validation_data,header=None)\n",
        "test_data =pd.read_table(\"/content/ask_ubuntu.txt\",skiprows=(train_data+validation_data),nrows=testing_data,header=None)"
      ],
      "execution_count": 45,
      "outputs": []
    },
    {
      "cell_type": "code",
      "metadata": {
        "id": "UsJDIc2Q7KOx"
      },
      "source": [
        "# Creating and saving all the files to disk\n",
        "\n",
        "np.savetxt(r'/content/ask_ubuntu.train', training_data.values, fmt='%s', delimiter='\\t')\n",
        "np.savetxt(r'/content/ask_ubuntu.validation', valid_data.values,fmt='%s', delimiter='\\t')\n",
        "np.savetxt(r'/content/ask_ubuntu.testing', test_data.values ,fmt='%s', delimiter='\\t')"
      ],
      "execution_count": 48,
      "outputs": []
    },
    {
      "cell_type": "code",
      "metadata": {
        "id": "4hKlfNc3Uov9"
      },
      "source": [
        "# Cloning and Installing fastText\n",
        "!git clone https://github.com/facebookresearch/fastText.git\n",
        "%cd fastText\n",
        "!make\n",
        "!cp fasttext ../\n",
        "%cd .."
      ],
      "execution_count": null,
      "outputs": []
    },
    {
      "cell_type": "code",
      "metadata": {
        "id": "6OESzD8rUvc-",
        "outputId": "d02a346e-e17c-4cc5-c52d-421d4177f66f",
        "colab": {
          "base_uri": "https://localhost:8080/",
          "height": 82
        }
      },
      "source": [
        "# Training fastText on the training data\n",
        "\n",
        "!./fasttext  supervised -input \"/content/ask_ubuntu.train\" -output ./model_ask_ubuntu"
      ],
      "execution_count": 53,
      "outputs": [
        {
          "output_type": "stream",
          "text": [
            "\rRead 0M words\n",
            "Number of words:  12855\n",
            "Number of labels: 2208\n",
            "Progress: 100.0% words/sec/thread:    3353 lr:  0.000000 avg.loss: 12.654812 ETA:   0h 0m 0s\n"
          ],
          "name": "stdout"
        }
      ]
    },
    {
      "cell_type": "code",
      "metadata": {
        "id": "3_1EW3oAAJe8",
        "outputId": "063e45f7-5140-4f9b-fd9f-4818b160a0a1",
        "colab": {
          "base_uri": "https://localhost:8080/",
          "height": 65
        }
      },
      "source": [
        "# Validating model accuracy on the validation set.\n",
        "\n",
        "!./fasttext test ./model_ask_ubuntu.bin \"/content/ask_ubuntu.validation\""
      ],
      "execution_count": 51,
      "outputs": [
        {
          "output_type": "stream",
          "text": [
            "N\t1771\n",
            "P@1\t0.0898\n",
            "R@1\t0.0299\n"
          ],
          "name": "stdout"
        }
      ]
    }
  ]
}